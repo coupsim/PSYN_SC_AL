{
 "cells": [
  {
   "cell_type": "code",
   "execution_count": 304,
   "metadata": {},
   "outputs": [],
   "source": [
    "import pandas as pd\n",
    "import matplotlib.pyplot as plt\n",
    "import numpy as np\n",
    "import seaborn as sns\n",
    "from sklearn.model_selection import train_test_split\n",
    "from sklearn.linear_model import LinearRegression\n",
    "from sklearn.metrics import mean_squared_error\n",
    "from sklearn.preprocessing import StandardScaler\n",
    "from sklearn.preprocessing import PolynomialFeatures\n",
    "from sklearn.pipeline import make_pipeline\n"
   ]
  },
  {
   "cell_type": "markdown",
   "metadata": {},
   "source": [
    "# Acquisition des données"
   ]
  },
  {
   "cell_type": "code",
   "execution_count": 305,
   "metadata": {},
   "outputs": [],
   "source": [
    "# Define data path and folder\n",
    "path_phone = \"C:/Users/scoup/Downloads/arrow_data_psyn.csv\"\n",
    "df = pd.read_csv(path_phone, on_bad_lines='skip')\n"
   ]
  },
  {
   "cell_type": "code",
   "execution_count": 306,
   "metadata": {},
   "outputs": [
    {
     "data": {
      "text/plain": [
       "(7580, 16)"
      ]
     },
     "execution_count": 306,
     "metadata": {},
     "output_type": "execute_result"
    }
   ],
   "source": [
    "df.shape"
   ]
  },
  {
   "cell_type": "code",
   "execution_count": 307,
   "metadata": {},
   "outputs": [
    {
     "data": {
      "text/html": [
       "<div>\n",
       "<style scoped>\n",
       "    .dataframe tbody tr th:only-of-type {\n",
       "        vertical-align: middle;\n",
       "    }\n",
       "\n",
       "    .dataframe tbody tr th {\n",
       "        vertical-align: top;\n",
       "    }\n",
       "\n",
       "    .dataframe thead th {\n",
       "        text-align: right;\n",
       "    }\n",
       "</style>\n",
       "<table border=\"1\" class=\"dataframe\">\n",
       "  <thead>\n",
       "    <tr style=\"text-align: right;\">\n",
       "      <th></th>\n",
       "      <th>Reference ZENER</th>\n",
       "      <th>Stock</th>\n",
       "      <th>Fabricant</th>\n",
       "      <th>Type</th>\n",
       "      <th>Configuration</th>\n",
       "      <th>0minal Zener Voltage (V)</th>\n",
       "      <th>Zener volatge tolerance</th>\n",
       "      <th>Maximum power dissipation (MW)</th>\n",
       "      <th>Test Current (MA)</th>\n",
       "      <th>Maximum reverse leaking current (UA)</th>\n",
       "      <th>Maximum regulator current (MA)</th>\n",
       "      <th>Maximum Zener impedance (OHM)</th>\n",
       "      <th>Maximum power dissipation (MW</th>\n",
       "      <th>Packaging</th>\n",
       "      <th>Pin Count</th>\n",
       "      <th>SVHC</th>\n",
       "    </tr>\n",
       "  </thead>\n",
       "  <tbody>\n",
       "    <tr>\n",
       "      <th>0</th>\n",
       "      <td>TZMC1V0-GS08 Zener Diode S1 0.75V 7% 8Ohm 500m...</td>\n",
       "      <td>NaN</td>\n",
       "      <td>18</td>\n",
       "      <td>V</td>\n",
       "      <td>S1</td>\n",
       "      <td>0.75</td>\n",
       "      <td>7%</td>\n",
       "      <td>500.0</td>\n",
       "      <td>5.00</td>\n",
       "      <td>NaN</td>\n",
       "      <td>NaN</td>\n",
       "      <td>8</td>\n",
       "      <td>500.0</td>\n",
       "      <td>7.0</td>\n",
       "      <td>2.0</td>\n",
       "      <td>0.0</td>\n",
       "    </tr>\n",
       "    <tr>\n",
       "      <th>1</th>\n",
       "      <td>TZMC1V0-M-08 Zener Diode S1 0.75V 7% 8Ohm 500m...</td>\n",
       "      <td>NaN</td>\n",
       "      <td>18</td>\n",
       "      <td>V</td>\n",
       "      <td>S1</td>\n",
       "      <td>0.75</td>\n",
       "      <td>7%</td>\n",
       "      <td>500.0</td>\n",
       "      <td>5.00</td>\n",
       "      <td>NaN</td>\n",
       "      <td>NaN</td>\n",
       "      <td>8(Typ)</td>\n",
       "      <td>500.0</td>\n",
       "      <td>7.0</td>\n",
       "      <td>2.0</td>\n",
       "      <td>0.0</td>\n",
       "    </tr>\n",
       "    <tr>\n",
       "      <th>2</th>\n",
       "      <td>BZX8850S-C1V8YL Zener Diode S1 1.8V 5% 100Ohm ...</td>\n",
       "      <td>NaN</td>\n",
       "      <td>11</td>\n",
       "      <td>V</td>\n",
       "      <td>S1</td>\n",
       "      <td>1.80</td>\n",
       "      <td>5%</td>\n",
       "      <td>365.0</td>\n",
       "      <td>0.05</td>\n",
       "      <td>7.5</td>\n",
       "      <td>NaN</td>\n",
       "      <td>100</td>\n",
       "      <td>365.0</td>\n",
       "      <td>7.0</td>\n",
       "      <td>2.0</td>\n",
       "      <td>1.0</td>\n",
       "    </tr>\n",
       "    <tr>\n",
       "      <th>3</th>\n",
       "      <td>JANS1N4614DUR-1 Diode Zener S1 1.8V 1% 500mW 2...</td>\n",
       "      <td>NaN</td>\n",
       "      <td>10</td>\n",
       "      <td>V</td>\n",
       "      <td>S1</td>\n",
       "      <td>1.80</td>\n",
       "      <td>1%</td>\n",
       "      <td>500.0</td>\n",
       "      <td>0.25</td>\n",
       "      <td>3.5</td>\n",
       "      <td>120</td>\n",
       "      <td>1200</td>\n",
       "      <td>NaN</td>\n",
       "      <td>NaN</td>\n",
       "      <td>2.0</td>\n",
       "      <td>NaN</td>\n",
       "    </tr>\n",
       "    <tr>\n",
       "      <th>4</th>\n",
       "      <td>JANTX1N4614 (DO35) Zener Diode S1 1.8V 5% 1200...</td>\n",
       "      <td>NaN</td>\n",
       "      <td>10</td>\n",
       "      <td>V</td>\n",
       "      <td>S1</td>\n",
       "      <td>1.80</td>\n",
       "      <td>5%</td>\n",
       "      <td>400.0</td>\n",
       "      <td>0.25</td>\n",
       "      <td>7.5</td>\n",
       "      <td>120</td>\n",
       "      <td>1200</td>\n",
       "      <td>400.0</td>\n",
       "      <td>2.0</td>\n",
       "      <td>2.0</td>\n",
       "      <td>1.0</td>\n",
       "    </tr>\n",
       "    <tr>\n",
       "      <th>...</th>\n",
       "      <td>...</td>\n",
       "      <td>...</td>\n",
       "      <td>...</td>\n",
       "      <td>...</td>\n",
       "      <td>...</td>\n",
       "      <td>...</td>\n",
       "      <td>...</td>\n",
       "      <td>...</td>\n",
       "      <td>...</td>\n",
       "      <td>...</td>\n",
       "      <td>...</td>\n",
       "      <td>...</td>\n",
       "      <td>...</td>\n",
       "      <td>...</td>\n",
       "      <td>...</td>\n",
       "      <td>...</td>\n",
       "    </tr>\n",
       "    <tr>\n",
       "      <th>7575</th>\n",
       "      <td>TSZU52C3V0 RZ SMD Zener Diode 150Mw Power Diss...</td>\n",
       "      <td>NaN</td>\n",
       "      <td>19</td>\n",
       "      <td>NaN</td>\n",
       "      <td>NaN</td>\n",
       "      <td>NaN</td>\n",
       "      <td>NaN</td>\n",
       "      <td>NaN</td>\n",
       "      <td>NaN</td>\n",
       "      <td>NaN</td>\n",
       "      <td>NaN</td>\n",
       "      <td>NaN</td>\n",
       "      <td>NaN</td>\n",
       "      <td>NaN</td>\n",
       "      <td>2.0</td>\n",
       "      <td>NaN</td>\n",
       "    </tr>\n",
       "    <tr>\n",
       "      <th>7576</th>\n",
       "      <td>TSZU52C3V6 RZ SMD ZENER DIODE 150MW POWER DISS...</td>\n",
       "      <td>NaN</td>\n",
       "      <td>19</td>\n",
       "      <td>NaN</td>\n",
       "      <td>NaN</td>\n",
       "      <td>NaN</td>\n",
       "      <td>NaN</td>\n",
       "      <td>NaN</td>\n",
       "      <td>NaN</td>\n",
       "      <td>NaN</td>\n",
       "      <td>NaN</td>\n",
       "      <td>NaN</td>\n",
       "      <td>NaN</td>\n",
       "      <td>7.0</td>\n",
       "      <td>2.0</td>\n",
       "      <td>NaN</td>\n",
       "    </tr>\n",
       "    <tr>\n",
       "      <th>7577</th>\n",
       "      <td>TSZU52C3V9 RZ SMD ZENER DIODE 150MW POWER DISS...</td>\n",
       "      <td>NaN</td>\n",
       "      <td>19</td>\n",
       "      <td>NaN</td>\n",
       "      <td>NaN</td>\n",
       "      <td>NaN</td>\n",
       "      <td>NaN</td>\n",
       "      <td>NaN</td>\n",
       "      <td>NaN</td>\n",
       "      <td>NaN</td>\n",
       "      <td>NaN</td>\n",
       "      <td>NaN</td>\n",
       "      <td>NaN</td>\n",
       "      <td>NaN</td>\n",
       "      <td>2.0</td>\n",
       "      <td>NaN</td>\n",
       "    </tr>\n",
       "    <tr>\n",
       "      <th>7578</th>\n",
       "      <td>TSZU52C4V3 RZ SMD ZENER DIODE 150MW POWER DISS...</td>\n",
       "      <td>NaN</td>\n",
       "      <td>19</td>\n",
       "      <td>NaN</td>\n",
       "      <td>NaN</td>\n",
       "      <td>NaN</td>\n",
       "      <td>NaN</td>\n",
       "      <td>NaN</td>\n",
       "      <td>NaN</td>\n",
       "      <td>NaN</td>\n",
       "      <td>NaN</td>\n",
       "      <td>NaN</td>\n",
       "      <td>NaN</td>\n",
       "      <td>NaN</td>\n",
       "      <td>2.0</td>\n",
       "      <td>NaN</td>\n",
       "    </tr>\n",
       "    <tr>\n",
       "      <th>7579</th>\n",
       "      <td>TSZU52C6V2 RZ SMD ZENER DIODE 150MW POWER DISS...</td>\n",
       "      <td>NaN</td>\n",
       "      <td>19</td>\n",
       "      <td>NaN</td>\n",
       "      <td>NaN</td>\n",
       "      <td>NaN</td>\n",
       "      <td>NaN</td>\n",
       "      <td>NaN</td>\n",
       "      <td>NaN</td>\n",
       "      <td>NaN</td>\n",
       "      <td>NaN</td>\n",
       "      <td>NaN</td>\n",
       "      <td>NaN</td>\n",
       "      <td>7.0</td>\n",
       "      <td>2.0</td>\n",
       "      <td>NaN</td>\n",
       "    </tr>\n",
       "  </tbody>\n",
       "</table>\n",
       "<p>7580 rows × 16 columns</p>\n",
       "</div>"
      ],
      "text/plain": [
       "                                        Reference ZENER Stock  Fabricant Type  \\\n",
       "0     TZMC1V0-GS08 Zener Diode S1 0.75V 7% 8Ohm 500m...   NaN         18    V   \n",
       "1     TZMC1V0-M-08 Zener Diode S1 0.75V 7% 8Ohm 500m...   NaN         18    V   \n",
       "2     BZX8850S-C1V8YL Zener Diode S1 1.8V 5% 100Ohm ...   NaN         11    V   \n",
       "3     JANS1N4614DUR-1 Diode Zener S1 1.8V 1% 500mW 2...   NaN         10    V   \n",
       "4     JANTX1N4614 (DO35) Zener Diode S1 1.8V 5% 1200...   NaN         10    V   \n",
       "...                                                 ...   ...        ...  ...   \n",
       "7575  TSZU52C3V0 RZ SMD Zener Diode 150Mw Power Diss...   NaN         19  NaN   \n",
       "7576  TSZU52C3V6 RZ SMD ZENER DIODE 150MW POWER DISS...   NaN         19  NaN   \n",
       "7577  TSZU52C3V9 RZ SMD ZENER DIODE 150MW POWER DISS...   NaN         19  NaN   \n",
       "7578  TSZU52C4V3 RZ SMD ZENER DIODE 150MW POWER DISS...   NaN         19  NaN   \n",
       "7579  TSZU52C6V2 RZ SMD ZENER DIODE 150MW POWER DISS...   NaN         19  NaN   \n",
       "\n",
       "     Configuration  0minal Zener Voltage (V) Zener volatge tolerance  \\\n",
       "0               S1                      0.75                      7%   \n",
       "1               S1                      0.75                      7%   \n",
       "2               S1                      1.80                      5%   \n",
       "3               S1                      1.80                      1%   \n",
       "4               S1                      1.80                      5%   \n",
       "...            ...                       ...                     ...   \n",
       "7575           NaN                       NaN                     NaN   \n",
       "7576           NaN                       NaN                     NaN   \n",
       "7577           NaN                       NaN                     NaN   \n",
       "7578           NaN                       NaN                     NaN   \n",
       "7579           NaN                       NaN                     NaN   \n",
       "\n",
       "      Maximum power dissipation (MW)  Test Current (MA)  \\\n",
       "0                              500.0               5.00   \n",
       "1                              500.0               5.00   \n",
       "2                              365.0               0.05   \n",
       "3                              500.0               0.25   \n",
       "4                              400.0               0.25   \n",
       "...                              ...                ...   \n",
       "7575                             NaN                NaN   \n",
       "7576                             NaN                NaN   \n",
       "7577                             NaN                NaN   \n",
       "7578                             NaN                NaN   \n",
       "7579                             NaN                NaN   \n",
       "\n",
       "      Maximum reverse leaking current (UA) Maximum regulator current (MA)  \\\n",
       "0                                      NaN                            NaN   \n",
       "1                                      NaN                            NaN   \n",
       "2                                      7.5                            NaN   \n",
       "3                                      3.5                            120   \n",
       "4                                      7.5                            120   \n",
       "...                                    ...                            ...   \n",
       "7575                                   NaN                            NaN   \n",
       "7576                                   NaN                            NaN   \n",
       "7577                                   NaN                            NaN   \n",
       "7578                                   NaN                            NaN   \n",
       "7579                                   NaN                            NaN   \n",
       "\n",
       "     Maximum Zener impedance (OHM)  Maximum power dissipation (MW  Packaging  \\\n",
       "0                                8                          500.0        7.0   \n",
       "1                           8(Typ)                          500.0        7.0   \n",
       "2                              100                          365.0        7.0   \n",
       "3                             1200                            NaN        NaN   \n",
       "4                             1200                          400.0        2.0   \n",
       "...                            ...                            ...        ...   \n",
       "7575                           NaN                            NaN        NaN   \n",
       "7576                           NaN                            NaN        7.0   \n",
       "7577                           NaN                            NaN        NaN   \n",
       "7578                           NaN                            NaN        NaN   \n",
       "7579                           NaN                            NaN        7.0   \n",
       "\n",
       "      Pin Count  SVHC  \n",
       "0           2.0   0.0  \n",
       "1           2.0   0.0  \n",
       "2           2.0   1.0  \n",
       "3           2.0   NaN  \n",
       "4           2.0   1.0  \n",
       "...         ...   ...  \n",
       "7575        2.0   NaN  \n",
       "7576        2.0   NaN  \n",
       "7577        2.0   NaN  \n",
       "7578        2.0   NaN  \n",
       "7579        2.0   NaN  \n",
       "\n",
       "[7580 rows x 16 columns]"
      ]
     },
     "execution_count": 307,
     "metadata": {},
     "output_type": "execute_result"
    }
   ],
   "source": [
    "df"
   ]
  },
  {
   "cell_type": "markdown",
   "metadata": {},
   "source": [
    "### Il y a un doublon de la valeur Maximum power dissipation(Mw), on va supprimer la deuxième colonne Maximum power dissipation car elle contient moins de valeurs "
   ]
  },
  {
   "cell_type": "code",
   "execution_count": 308,
   "metadata": {},
   "outputs": [
    {
     "name": "stdout",
     "output_type": "stream",
     "text": [
      "Colonnes restantes dans le DataFrame : ['Reference ZENER', 'Stock', 'Fabricant', 'Type', 'Configuration', '0minal Zener Voltage (V)', 'Zener volatge tolerance', 'Maximum power dissipation (MW)', 'Test Current (MA)', 'Maximum reverse leaking current (UA)', 'Maximum regulator current (MA)', 'Maximum Zener impedance (OHM)', 'Packaging', 'Pin Count', 'SVHC']\n"
     ]
    }
   ],
   "source": [
    "# Suppression de la colonne \"Maximum power dissipation (MW\" si elle existe\n",
    "column_to_remove = \"Maximum power dissipation (MW\"\n",
    "if column_to_remove in df.columns:\n",
    "    df = df.drop(columns=[column_to_remove])\n",
    "\n",
    "# Vérification des colonnes restantes\n",
    "print(\"Colonnes restantes dans le DataFrame :\", df.columns.tolist())"
   ]
  },
  {
   "cell_type": "markdown",
   "metadata": {},
   "source": [
    "## Nombre de lignes avec au moins une valeur manquante"
   ]
  },
  {
   "cell_type": "markdown",
   "metadata": {},
   "source": [
    "### Analyse des données manquantes"
   ]
  },
  {
   "cell_type": "code",
   "execution_count": 309,
   "metadata": {},
   "outputs": [
    {
     "name": "stdout",
     "output_type": "stream",
     "text": [
      "% de données manquantes est : 99.63060686015831\n"
     ]
    }
   ],
   "source": [
    "missing_data_rows = df[df.isnull().any(axis=1)]\n",
    "print(f\"% de données manquantes est : {(len(missing_data_rows)/len(df))*100}\")"
   ]
  },
  {
   "cell_type": "markdown",
   "metadata": {},
   "source": [
    "### Analyse des différentes colonnes pour les données manquantes"
   ]
  },
  {
   "cell_type": "code",
   "execution_count": 310,
   "metadata": {},
   "outputs": [
    {
     "data": {
      "text/plain": [
       "Index(['Reference ZENER', 'Stock', 'Fabricant', 'Type', 'Configuration',\n",
       "       '0minal Zener Voltage (V)', 'Zener volatge tolerance',\n",
       "       'Maximum power dissipation (MW)', 'Test Current (MA)',\n",
       "       'Maximum reverse leaking current (UA)',\n",
       "       'Maximum regulator current (MA)', 'Maximum Zener impedance (OHM)',\n",
       "       'Packaging', 'Pin Count', 'SVHC'],\n",
       "      dtype='object')"
      ]
     },
     "execution_count": 310,
     "metadata": {},
     "output_type": "execute_result"
    }
   ],
   "source": [
    "col = df.columns\n",
    "col"
   ]
  },
  {
   "cell_type": "code",
   "execution_count": 311,
   "metadata": {},
   "outputs": [
    {
     "name": "stdout",
     "output_type": "stream",
     "text": [
      "Fabricant : 0.00% de valeurs manquantes\n",
      "Type : 2.65% de valeurs manquantes\n",
      "Configuration : 2.64% de valeurs manquantes\n",
      "0minal Zener Voltage (V) : 2.48% de valeurs manquantes\n",
      "Zener volatge tolerance : 2.73% de valeurs manquantes\n",
      "Maximum power dissipation (MW) : 2.49% de valeurs manquantes\n",
      "Test Current (MA) : 2.73% de valeurs manquantes\n",
      "Maximum reverse leaking current (UA) : 4.72% de valeurs manquantes\n",
      "Maximum regulator current (MA) : 72.35% de valeurs manquantes\n",
      "Maximum Zener impedance (OHM) : 8.47% de valeurs manquantes\n",
      "Packaging : 11.56% de valeurs manquantes\n",
      "Pin Count : 1.81% de valeurs manquantes\n",
      "SVHC : 46.29% de valeurs manquantes\n"
     ]
    }
   ],
   "source": [
    "percentages = []\n",
    "for i in range(2, 15):\n",
    "   missing_col = df[df.iloc[:, i].isnull()]\n",
    "   percentage = round((len(missing_col)/len(df))*100, 2)\n",
    "   percentages.append(percentage)\n",
    "   print(f\"{col[i]} : {percentage:.2f}% de valeurs manquantes\")"
   ]
  },
  {
   "cell_type": "code",
   "execution_count": 312,
   "metadata": {},
   "outputs": [
    {
     "data": {
      "text/plain": [
       "2.65"
      ]
     },
     "execution_count": 312,
     "metadata": {},
     "output_type": "execute_result"
    }
   ],
   "source": [
    "percentages[1]"
   ]
  },
  {
   "cell_type": "code",
   "execution_count": 313,
   "metadata": {},
   "outputs": [
    {
     "data": {
      "image/png": "[encoded data removed]",
      "text/plain": [
       "<Figure size 1200x800 with 1 Axes>"
      ]
     },
     "metadata": {},
     "output_type": "display_data"
    }
   ],
   "source": [
    "# Dictionnaire des pourcentages de valeurs manquantes\n",
    "data = { \n",
    "   'Fabricant': percentages[0],\n",
    "   'Type': percentages[1],\n",
    "   'Configuration': percentages[2],\n",
    "   'Nominal Zener Voltage (V)': percentages[3],\n",
    "   'Zener voltage tolerance': percentages[4],\n",
    "   'Maximum power dissipation (MW)': percentages[5],\n",
    "   'Test Current (MA)': percentages[6],\n",
    "   'Maximum reverse leaking current (UA)': percentages[7],\n",
    "   'Maximum regulator current (MA)': percentages[8],\n",
    "   'Maximum Zener impedance (OHM)': percentages[9],\n",
    "   'Packaging': percentages[10],\n",
    "   'Pin Count': percentages[11],\n",
    "   'SVHC': percentages[12]\n",
    "}\n",
    "\n",
    "# Trier les données en ordre décroissant en fonction des valeurs\n",
    "sorted_data = dict(sorted(data.items(), key=lambda item: item[1], reverse=True))\n",
    "\n",
    "# Création du graphique en barres VERTICALES (bar au lieu de barh)\n",
    "plt.figure(figsize=(12, 8))\n",
    "plt.bar(list(sorted_data.keys()), list(sorted_data.values()))  # Utilisation de plt.bar pour vertical\n",
    "\n",
    "# Ajout des labels et du titre\n",
    "plt.ylabel('Pourcentage de valeurs manquantes')\n",
    "plt.xlabel('Colonnes')\n",
    "plt.title('Pourcentage de valeurs manquantes par colonne (trié décroissant)')\n",
    "\n",
    "# Rotation des étiquettes pour une meilleure lisibilité\n",
    "plt.xticks(rotation=45, ha='right')\n",
    "\n",
    "# Ajustement automatique de la disposition\n",
    "plt.tight_layout()\n",
    "\n",
    "# Affichage du graphique\n",
    "plt.show()"
   ]
  },
  {
   "cell_type": "markdown",
   "metadata": {},
   "source": [
    "Les colonnes MA et MW sont à étudier car ils sont assez vide \n",
    "Pour la colonne des étiquettes : 46.29% de valeur manquante on va entraîner le modèle dessus"
   ]
  },
  {
   "cell_type": "markdown",
   "metadata": {},
   "source": [
    "# Nettoyage et Prétaitement des données"
   ]
  },
  {
   "cell_type": "code",
   "execution_count": 314,
   "metadata": {},
   "outputs": [],
   "source": [
    "df_svhc = df[df['SVHC'] == 1]\n",
    "df_Nan =  df[df['SVHC'].isna()]\n",
    "df_nvhc = df[df['SVHC'] == 0]"
   ]
  },
  {
   "cell_type": "code",
   "execution_count": 315,
   "metadata": {},
   "outputs": [
    {
     "data": {
      "text/plain": [
       "(1497, 15)"
      ]
     },
     "execution_count": 315,
     "metadata": {},
     "output_type": "execute_result"
    }
   ],
   "source": [
    "df_svhc.shape"
   ]
  },
  {
   "cell_type": "code",
   "execution_count": 316,
   "metadata": {},
   "outputs": [
    {
     "data": {
      "text/plain": [
       "(2574, 15)"
      ]
     },
     "execution_count": 316,
     "metadata": {},
     "output_type": "execute_result"
    }
   ],
   "source": [
    "df_nvhc.shape"
   ]
  },
  {
   "cell_type": "code",
   "execution_count": 317,
   "metadata": {},
   "outputs": [
    {
     "data": {
      "text/plain": [
       "(3509, 15)"
      ]
     },
     "execution_count": 317,
     "metadata": {},
     "output_type": "execute_result"
    }
   ],
   "source": [
    "df_Nan.shape\n"
   ]
  },
  {
   "cell_type": "code",
   "execution_count": 318,
   "metadata": {},
   "outputs": [],
   "source": [
    "df_train = pd.concat([df_svhc, df_nvhc])"
   ]
  },
  {
   "cell_type": "code",
   "execution_count": 319,
   "metadata": {},
   "outputs": [
    {
     "data": {
      "text/html": [
       "<div>\n",
       "<style scoped>\n",
       "    .dataframe tbody tr th:only-of-type {\n",
       "        vertical-align: middle;\n",
       "    }\n",
       "\n",
       "    .dataframe tbody tr th {\n",
       "        vertical-align: top;\n",
       "    }\n",
       "\n",
       "    .dataframe thead th {\n",
       "        text-align: right;\n",
       "    }\n",
       "</style>\n",
       "<table border=\"1\" class=\"dataframe\">\n",
       "  <thead>\n",
       "    <tr style=\"text-align: right;\">\n",
       "      <th></th>\n",
       "      <th>Reference ZENER</th>\n",
       "      <th>Stock</th>\n",
       "      <th>Fabricant</th>\n",
       "      <th>Type</th>\n",
       "      <th>Configuration</th>\n",
       "      <th>0minal Zener Voltage (V)</th>\n",
       "      <th>Zener volatge tolerance</th>\n",
       "      <th>Maximum power dissipation (MW)</th>\n",
       "      <th>Test Current (MA)</th>\n",
       "      <th>Maximum reverse leaking current (UA)</th>\n",
       "      <th>Maximum regulator current (MA)</th>\n",
       "      <th>Maximum Zener impedance (OHM)</th>\n",
       "      <th>Packaging</th>\n",
       "      <th>Pin Count</th>\n",
       "      <th>SVHC</th>\n",
       "    </tr>\n",
       "  </thead>\n",
       "  <tbody>\n",
       "    <tr>\n",
       "      <th>2</th>\n",
       "      <td>BZX8850S-C1V8YL Zener Diode S1 1.8V 5% 100Ohm ...</td>\n",
       "      <td>NaN</td>\n",
       "      <td>11</td>\n",
       "      <td>V</td>\n",
       "      <td>S1</td>\n",
       "      <td>1.8</td>\n",
       "      <td>5%</td>\n",
       "      <td>365.0</td>\n",
       "      <td>0.05</td>\n",
       "      <td>7.5</td>\n",
       "      <td>NaN</td>\n",
       "      <td>100</td>\n",
       "      <td>7.0</td>\n",
       "      <td>2.0</td>\n",
       "      <td>1.0</td>\n",
       "    </tr>\n",
       "    <tr>\n",
       "      <th>4</th>\n",
       "      <td>JANTX1N4614 (DO35) Zener Diode S1 1.8V 5% 1200...</td>\n",
       "      <td>NaN</td>\n",
       "      <td>10</td>\n",
       "      <td>V</td>\n",
       "      <td>S1</td>\n",
       "      <td>1.8</td>\n",
       "      <td>5%</td>\n",
       "      <td>400.0</td>\n",
       "      <td>0.25</td>\n",
       "      <td>7.5</td>\n",
       "      <td>120</td>\n",
       "      <td>1200</td>\n",
       "      <td>2.0</td>\n",
       "      <td>2.0</td>\n",
       "      <td>1.0</td>\n",
       "    </tr>\n",
       "    <tr>\n",
       "      <th>32</th>\n",
       "      <td>BZX8850S-C2V0YL Zener Diode S1 2V 5% 100Ohm 36...</td>\n",
       "      <td>NaN</td>\n",
       "      <td>11</td>\n",
       "      <td>V</td>\n",
       "      <td>S1</td>\n",
       "      <td>2.0</td>\n",
       "      <td>5%</td>\n",
       "      <td>365.0</td>\n",
       "      <td>0.05</td>\n",
       "      <td>7.0</td>\n",
       "      <td>NaN</td>\n",
       "      <td>100</td>\n",
       "      <td>7.0</td>\n",
       "      <td>2.0</td>\n",
       "      <td>1.0</td>\n",
       "    </tr>\n",
       "    <tr>\n",
       "      <th>33</th>\n",
       "      <td>CD0603-Z2 Zener Diode S1 2V 5% 100Ohm 150mW 2-...</td>\n",
       "      <td>NaN</td>\n",
       "      <td>2</td>\n",
       "      <td>V</td>\n",
       "      <td>S1</td>\n",
       "      <td>2.0</td>\n",
       "      <td>5%</td>\n",
       "      <td>150.0</td>\n",
       "      <td>5.00</td>\n",
       "      <td>100.0</td>\n",
       "      <td>NaN</td>\n",
       "      <td>100</td>\n",
       "      <td>7.0</td>\n",
       "      <td>2.0</td>\n",
       "      <td>1.0</td>\n",
       "    </tr>\n",
       "    <tr>\n",
       "      <th>34</th>\n",
       "      <td>CD0603-Z2 Zener Diode S1 2V 5% 100Ohm 150mW 2-...</td>\n",
       "      <td>NaN</td>\n",
       "      <td>2</td>\n",
       "      <td>V</td>\n",
       "      <td>S1</td>\n",
       "      <td>2.0</td>\n",
       "      <td>5%</td>\n",
       "      <td>150.0</td>\n",
       "      <td>5.00</td>\n",
       "      <td>100.0</td>\n",
       "      <td>NaN</td>\n",
       "      <td>100</td>\n",
       "      <td>7.0</td>\n",
       "      <td>2.0</td>\n",
       "      <td>1.0</td>\n",
       "    </tr>\n",
       "    <tr>\n",
       "      <th>...</th>\n",
       "      <td>...</td>\n",
       "      <td>...</td>\n",
       "      <td>...</td>\n",
       "      <td>...</td>\n",
       "      <td>...</td>\n",
       "      <td>...</td>\n",
       "      <td>...</td>\n",
       "      <td>...</td>\n",
       "      <td>...</td>\n",
       "      <td>...</td>\n",
       "      <td>...</td>\n",
       "      <td>...</td>\n",
       "      <td>...</td>\n",
       "      <td>...</td>\n",
       "      <td>...</td>\n",
       "    </tr>\n",
       "    <tr>\n",
       "      <th>7561</th>\n",
       "      <td>SZMMSZ5300T1G DIODE ZENER S1 51V 5% 500MW 2-PI...</td>\n",
       "      <td>NaN</td>\n",
       "      <td>13</td>\n",
       "      <td>NaN</td>\n",
       "      <td>NaN</td>\n",
       "      <td>NaN</td>\n",
       "      <td>NaN</td>\n",
       "      <td>NaN</td>\n",
       "      <td>NaN</td>\n",
       "      <td>NaN</td>\n",
       "      <td>NaN</td>\n",
       "      <td>NaN</td>\n",
       "      <td>NaN</td>\n",
       "      <td>NaN</td>\n",
       "      <td>0.0</td>\n",
       "    </tr>\n",
       "    <tr>\n",
       "      <th>7562</th>\n",
       "      <td>SZMMSZ5300T1G DIODE ZENER S1 51V 5% 500MW 2-PI...</td>\n",
       "      <td>NaN</td>\n",
       "      <td>13</td>\n",
       "      <td>NaN</td>\n",
       "      <td>NaN</td>\n",
       "      <td>NaN</td>\n",
       "      <td>NaN</td>\n",
       "      <td>NaN</td>\n",
       "      <td>NaN</td>\n",
       "      <td>NaN</td>\n",
       "      <td>NaN</td>\n",
       "      <td>NaN</td>\n",
       "      <td>NaN</td>\n",
       "      <td>NaN</td>\n",
       "      <td>0.0</td>\n",
       "    </tr>\n",
       "    <tr>\n",
       "      <th>7563</th>\n",
       "      <td>SZMMSZ5300T1G DIODE ZENER S1 51V 5% 500MW 2-PI...</td>\n",
       "      <td>NaN</td>\n",
       "      <td>13</td>\n",
       "      <td>NaN</td>\n",
       "      <td>NaN</td>\n",
       "      <td>NaN</td>\n",
       "      <td>NaN</td>\n",
       "      <td>NaN</td>\n",
       "      <td>NaN</td>\n",
       "      <td>NaN</td>\n",
       "      <td>NaN</td>\n",
       "      <td>NaN</td>\n",
       "      <td>NaN</td>\n",
       "      <td>NaN</td>\n",
       "      <td>0.0</td>\n",
       "    </tr>\n",
       "    <tr>\n",
       "      <th>7564</th>\n",
       "      <td>SZNZ9F12VT5G Zener Vs 200 mW SOD-923 Surface M...</td>\n",
       "      <td>NaN</td>\n",
       "      <td>13</td>\n",
       "      <td>NaN</td>\n",
       "      <td>NaN</td>\n",
       "      <td>NaN</td>\n",
       "      <td>NaN</td>\n",
       "      <td>NaN</td>\n",
       "      <td>NaN</td>\n",
       "      <td>NaN</td>\n",
       "      <td>NaN</td>\n",
       "      <td>NaN</td>\n",
       "      <td>7.0</td>\n",
       "      <td>2.0</td>\n",
       "      <td>0.0</td>\n",
       "    </tr>\n",
       "    <tr>\n",
       "      <th>7565</th>\n",
       "      <td>SZNZ9F12VT5G Zener Vs 200 mW SOD-923 Surface M...</td>\n",
       "      <td>NaN</td>\n",
       "      <td>13</td>\n",
       "      <td>NaN</td>\n",
       "      <td>NaN</td>\n",
       "      <td>NaN</td>\n",
       "      <td>NaN</td>\n",
       "      <td>NaN</td>\n",
       "      <td>NaN</td>\n",
       "      <td>NaN</td>\n",
       "      <td>NaN</td>\n",
       "      <td>NaN</td>\n",
       "      <td>7.0</td>\n",
       "      <td>2.0</td>\n",
       "      <td>0.0</td>\n",
       "    </tr>\n",
       "  </tbody>\n",
       "</table>\n",
       "<p>4071 rows × 15 columns</p>\n",
       "</div>"
      ],
      "text/plain": [
       "                                        Reference ZENER Stock  Fabricant Type  \\\n",
       "2     BZX8850S-C1V8YL Zener Diode S1 1.8V 5% 100Ohm ...   NaN         11    V   \n",
       "4     JANTX1N4614 (DO35) Zener Diode S1 1.8V 5% 1200...   NaN         10    V   \n",
       "32    BZX8850S-C2V0YL Zener Diode S1 2V 5% 100Ohm 36...   NaN         11    V   \n",
       "33    CD0603-Z2 Zener Diode S1 2V 5% 100Ohm 150mW 2-...   NaN          2    V   \n",
       "34    CD0603-Z2 Zener Diode S1 2V 5% 100Ohm 150mW 2-...   NaN          2    V   \n",
       "...                                                 ...   ...        ...  ...   \n",
       "7561  SZMMSZ5300T1G DIODE ZENER S1 51V 5% 500MW 2-PI...   NaN         13  NaN   \n",
       "7562  SZMMSZ5300T1G DIODE ZENER S1 51V 5% 500MW 2-PI...   NaN         13  NaN   \n",
       "7563  SZMMSZ5300T1G DIODE ZENER S1 51V 5% 500MW 2-PI...   NaN         13  NaN   \n",
       "7564  SZNZ9F12VT5G Zener Vs 200 mW SOD-923 Surface M...   NaN         13  NaN   \n",
       "7565  SZNZ9F12VT5G Zener Vs 200 mW SOD-923 Surface M...   NaN         13  NaN   \n",
       "\n",
       "     Configuration  0minal Zener Voltage (V) Zener volatge tolerance  \\\n",
       "2               S1                       1.8                      5%   \n",
       "4               S1                       1.8                      5%   \n",
       "32              S1                       2.0                      5%   \n",
       "33              S1                       2.0                      5%   \n",
       "34              S1                       2.0                      5%   \n",
       "...            ...                       ...                     ...   \n",
       "7561           NaN                       NaN                     NaN   \n",
       "7562           NaN                       NaN                     NaN   \n",
       "7563           NaN                       NaN                     NaN   \n",
       "7564           NaN                       NaN                     NaN   \n",
       "7565           NaN                       NaN                     NaN   \n",
       "\n",
       "      Maximum power dissipation (MW)  Test Current (MA)  \\\n",
       "2                              365.0               0.05   \n",
       "4                              400.0               0.25   \n",
       "32                             365.0               0.05   \n",
       "33                             150.0               5.00   \n",
       "34                             150.0               5.00   \n",
       "...                              ...                ...   \n",
       "7561                             NaN                NaN   \n",
       "7562                             NaN                NaN   \n",
       "7563                             NaN                NaN   \n",
       "7564                             NaN                NaN   \n",
       "7565                             NaN                NaN   \n",
       "\n",
       "      Maximum reverse leaking current (UA) Maximum regulator current (MA)  \\\n",
       "2                                      7.5                            NaN   \n",
       "4                                      7.5                            120   \n",
       "32                                     7.0                            NaN   \n",
       "33                                   100.0                            NaN   \n",
       "34                                   100.0                            NaN   \n",
       "...                                    ...                            ...   \n",
       "7561                                   NaN                            NaN   \n",
       "7562                                   NaN                            NaN   \n",
       "7563                                   NaN                            NaN   \n",
       "7564                                   NaN                            NaN   \n",
       "7565                                   NaN                            NaN   \n",
       "\n",
       "     Maximum Zener impedance (OHM)  Packaging  Pin Count  SVHC  \n",
       "2                              100        7.0        2.0   1.0  \n",
       "4                             1200        2.0        2.0   1.0  \n",
       "32                             100        7.0        2.0   1.0  \n",
       "33                             100        7.0        2.0   1.0  \n",
       "34                             100        7.0        2.0   1.0  \n",
       "...                            ...        ...        ...   ...  \n",
       "7561                           NaN        NaN        NaN   0.0  \n",
       "7562                           NaN        NaN        NaN   0.0  \n",
       "7563                           NaN        NaN        NaN   0.0  \n",
       "7564                           NaN        7.0        2.0   0.0  \n",
       "7565                           NaN        7.0        2.0   0.0  \n",
       "\n",
       "[4071 rows x 15 columns]"
      ]
     },
     "execution_count": 319,
     "metadata": {},
     "output_type": "execute_result"
    }
   ],
   "source": [
    "df_train\n"
   ]
  },
  {
   "cell_type": "markdown",
   "metadata": {},
   "source": [
    "## Modification des colonnes ayant des données mixtes "
   ]
  },
  {
   "cell_type": "markdown",
   "metadata": {},
   "source": [
    "### Dans la colommne \"Maximum regulator current (MA)\" on a des valeurs de ce type 56@Ta=50C ce qui signifique que le Maximum regulator current est 56 Ma pour une température ambiante de  50°C. On doit prendre que le Ma. Mais on va supprimer la colonne \"Maximum regulator current (MA)\"."
   ]
  },
  {
   "cell_type": "code",
   "execution_count": 320,
   "metadata": {},
   "outputs": [],
   "source": [
    "df_train_ss_ref = df_train.drop(columns=['Reference ZENER'])\n"
   ]
  },
  {
   "cell_type": "code",
   "execution_count": 321,
   "metadata": {},
   "outputs": [],
   "source": [
    "# Fonction pour extraire la valeur avant '@' ou laisser la valeur d'origine si '@' n'est pas présent\n",
    "def extract_current_before_at(value):\n",
    "    if isinstance(value, str) and \"@\" in value:\n",
    "        return float(value.split('@')[0])  # Extrait la partie avant '@' comme un float\n",
    "    return value  # Retourne la valeur d'origine (par ex. : 9.2)\n",
    "\n",
    "# Fonction pour extraire la température après '@'\n",
    "def extract_temperature_after_at(value):\n",
    "    if isinstance(value, str) and \"@\" in value:\n",
    "        temp_part = value.split('@')[1].strip()  # Extrait la partie après '@'\n",
    "        if \"=\" in temp_part and \"C\" in temp_part:\n",
    "            try:\n",
    "                return float(temp_part.split('=')[1].replace('C', '').strip())  # Extrait la température entre '=' et 'C'\n",
    "            except ValueError:\n",
    "                return None  # Retourne None en cas d'erreur\n",
    "    return None  # Retourne None si '@' n'est pas présent"
   ]
  },
  {
   "cell_type": "code",
   "execution_count": 322,
   "metadata": {},
   "outputs": [
    {
     "name": "stdout",
     "output_type": "stream",
     "text": [
      "50.0\n",
      "25.0\n",
      "50.0\n",
      "50\n"
     ]
    }
   ],
   "source": [
    "#test\n",
    "# Cas de test\n",
    "print(extract_temperature_after_at(\"83@Ta=50C\"))  # Résultat attendu : 50\n",
    "print(extract_temperature_after_at(\"162@Ta=25C\"))  # Résultat attendu : 25\n",
    "print(extract_temperature_after_at(\"83 @Ta=50C\"))  # Résultat attendu : 50 (avec un espace avant @)\n",
    "print(extract_current_before_at(\"50\"))  # Résultat attendu : 50 (avec un espace après @)\n"
   ]
  },
  {
   "cell_type": "code",
   "execution_count": 323,
   "metadata": {},
   "outputs": [],
   "source": [
    "# Création de la colonne pour la température ambiante avant de modifier la colonne originale\n",
    "df_train_ss_ref[\"Maximum Regulator Current Ambient Temperature (°C)\"] = df_train_ss_ref[\"Maximum regulator current (MA)\"].apply(extract_temperature_after_at)\n",
    "\n",
    "# Mise à jour de la colonne \"Maximum regulator current (MA)\" pour ne garder que les valeurs avant '@'\n",
    "df_train_ss_ref[\"Maximum regulator current (MA)\"] = df_train_ss_ref[\"Maximum regulator current (MA)\"].apply(extract_current_before_at)"
   ]
  },
  {
   "cell_type": "code",
   "execution_count": 324,
   "metadata": {},
   "outputs": [],
   "source": [
    "# Réorganiser les colonnes pour placer \"Maximum Regulator Current Ambient Temperature (°C)\" après \"Maximum regulator current (MA)\"\n",
    "columns = list(df_train_ss_ref.columns)\n",
    "index = columns.index(\"Maximum regulator current (MA)\")\n",
    "columns.insert(index + 1, columns.pop(columns.index(\"Maximum Regulator Current Ambient Temperature (°C)\")))\n",
    "df_train_ss_ref = df_train_ss_ref[columns]"
   ]
  },
  {
   "cell_type": "code",
   "execution_count": 325,
   "metadata": {},
   "outputs": [
    {
     "data": {
      "text/html": [
       "<div>\n",
       "<style scoped>\n",
       "    .dataframe tbody tr th:only-of-type {\n",
       "        vertical-align: middle;\n",
       "    }\n",
       "\n",
       "    .dataframe tbody tr th {\n",
       "        vertical-align: top;\n",
       "    }\n",
       "\n",
       "    .dataframe thead th {\n",
       "        text-align: right;\n",
       "    }\n",
       "</style>\n",
       "<table border=\"1\" class=\"dataframe\">\n",
       "  <thead>\n",
       "    <tr style=\"text-align: right;\">\n",
       "      <th></th>\n",
       "      <th>Stock</th>\n",
       "      <th>Fabricant</th>\n",
       "      <th>Type</th>\n",
       "      <th>Configuration</th>\n",
       "      <th>0minal Zener Voltage (V)</th>\n",
       "      <th>Zener volatge tolerance</th>\n",
       "      <th>Maximum power dissipation (MW)</th>\n",
       "      <th>Test Current (MA)</th>\n",
       "      <th>Maximum reverse leaking current (UA)</th>\n",
       "      <th>Maximum regulator current (MA)</th>\n",
       "      <th>Maximum Regulator Current Ambient Temperature (°C)</th>\n",
       "      <th>Maximum Zener impedance (OHM)</th>\n",
       "      <th>Packaging</th>\n",
       "      <th>Pin Count</th>\n",
       "      <th>SVHC</th>\n",
       "    </tr>\n",
       "  </thead>\n",
       "  <tbody>\n",
       "    <tr>\n",
       "      <th>2</th>\n",
       "      <td>NaN</td>\n",
       "      <td>11</td>\n",
       "      <td>V</td>\n",
       "      <td>S1</td>\n",
       "      <td>1.8</td>\n",
       "      <td>5%</td>\n",
       "      <td>365.0</td>\n",
       "      <td>0.05</td>\n",
       "      <td>7.5</td>\n",
       "      <td>NaN</td>\n",
       "      <td>NaN</td>\n",
       "      <td>100</td>\n",
       "      <td>7.0</td>\n",
       "      <td>2.0</td>\n",
       "      <td>1.0</td>\n",
       "    </tr>\n",
       "    <tr>\n",
       "      <th>4</th>\n",
       "      <td>NaN</td>\n",
       "      <td>10</td>\n",
       "      <td>V</td>\n",
       "      <td>S1</td>\n",
       "      <td>1.8</td>\n",
       "      <td>5%</td>\n",
       "      <td>400.0</td>\n",
       "      <td>0.25</td>\n",
       "      <td>7.5</td>\n",
       "      <td>120</td>\n",
       "      <td>NaN</td>\n",
       "      <td>1200</td>\n",
       "      <td>2.0</td>\n",
       "      <td>2.0</td>\n",
       "      <td>1.0</td>\n",
       "    </tr>\n",
       "    <tr>\n",
       "      <th>32</th>\n",
       "      <td>NaN</td>\n",
       "      <td>11</td>\n",
       "      <td>V</td>\n",
       "      <td>S1</td>\n",
       "      <td>2.0</td>\n",
       "      <td>5%</td>\n",
       "      <td>365.0</td>\n",
       "      <td>0.05</td>\n",
       "      <td>7.0</td>\n",
       "      <td>NaN</td>\n",
       "      <td>NaN</td>\n",
       "      <td>100</td>\n",
       "      <td>7.0</td>\n",
       "      <td>2.0</td>\n",
       "      <td>1.0</td>\n",
       "    </tr>\n",
       "    <tr>\n",
       "      <th>33</th>\n",
       "      <td>NaN</td>\n",
       "      <td>2</td>\n",
       "      <td>V</td>\n",
       "      <td>S1</td>\n",
       "      <td>2.0</td>\n",
       "      <td>5%</td>\n",
       "      <td>150.0</td>\n",
       "      <td>5.00</td>\n",
       "      <td>100.0</td>\n",
       "      <td>NaN</td>\n",
       "      <td>NaN</td>\n",
       "      <td>100</td>\n",
       "      <td>7.0</td>\n",
       "      <td>2.0</td>\n",
       "      <td>1.0</td>\n",
       "    </tr>\n",
       "    <tr>\n",
       "      <th>34</th>\n",
       "      <td>NaN</td>\n",
       "      <td>2</td>\n",
       "      <td>V</td>\n",
       "      <td>S1</td>\n",
       "      <td>2.0</td>\n",
       "      <td>5%</td>\n",
       "      <td>150.0</td>\n",
       "      <td>5.00</td>\n",
       "      <td>100.0</td>\n",
       "      <td>NaN</td>\n",
       "      <td>NaN</td>\n",
       "      <td>100</td>\n",
       "      <td>7.0</td>\n",
       "      <td>2.0</td>\n",
       "      <td>1.0</td>\n",
       "    </tr>\n",
       "  </tbody>\n",
       "</table>\n",
       "</div>"
      ],
      "text/plain": [
       "   Stock  Fabricant Type Configuration  0minal Zener Voltage (V)  \\\n",
       "2    NaN         11    V            S1                       1.8   \n",
       "4    NaN         10    V            S1                       1.8   \n",
       "32   NaN         11    V            S1                       2.0   \n",
       "33   NaN          2    V            S1                       2.0   \n",
       "34   NaN          2    V            S1                       2.0   \n",
       "\n",
       "   Zener volatge tolerance  Maximum power dissipation (MW)  Test Current (MA)  \\\n",
       "2                       5%                           365.0               0.05   \n",
       "4                       5%                           400.0               0.25   \n",
       "32                      5%                           365.0               0.05   \n",
       "33                      5%                           150.0               5.00   \n",
       "34                      5%                           150.0               5.00   \n",
       "\n",
       "    Maximum reverse leaking current (UA) Maximum regulator current (MA)  \\\n",
       "2                                    7.5                            NaN   \n",
       "4                                    7.5                            120   \n",
       "32                                   7.0                            NaN   \n",
       "33                                 100.0                            NaN   \n",
       "34                                 100.0                            NaN   \n",
       "\n",
       "    Maximum Regulator Current Ambient Temperature (°C)  \\\n",
       "2                                                 NaN    \n",
       "4                                                 NaN    \n",
       "32                                                NaN    \n",
       "33                                                NaN    \n",
       "34                                                NaN    \n",
       "\n",
       "   Maximum Zener impedance (OHM)  Packaging  Pin Count  SVHC  \n",
       "2                            100        7.0        2.0   1.0  \n",
       "4                           1200        2.0        2.0   1.0  \n",
       "32                           100        7.0        2.0   1.0  \n",
       "33                           100        7.0        2.0   1.0  \n",
       "34                           100        7.0        2.0   1.0  "
      ]
     },
     "execution_count": 325,
     "metadata": {},
     "output_type": "execute_result"
    }
   ],
   "source": [
    "df_train_ss_ref.head()"
   ]
  },
  {
   "cell_type": "code",
   "execution_count": 326,
   "metadata": {},
   "outputs": [
    {
     "name": "stdout",
     "output_type": "stream",
     "text": [
      "[ nan  50. 100.]\n",
      "859\n"
     ]
    }
   ],
   "source": [
    "print(df_train_ss_ref[\"Maximum Regulator Current Ambient Temperature (°C)\"].unique())\n",
    "print(df_train_ss_ref[\"Maximum regulator current (MA)\"].notna().sum())"
   ]
  },
  {
   "cell_type": "code",
   "execution_count": 327,
   "metadata": {},
   "outputs": [
    {
     "data": {
      "text/html": [
       "<div>\n",
       "<style scoped>\n",
       "    .dataframe tbody tr th:only-of-type {\n",
       "        vertical-align: middle;\n",
       "    }\n",
       "\n",
       "    .dataframe tbody tr th {\n",
       "        vertical-align: top;\n",
       "    }\n",
       "\n",
       "    .dataframe thead th {\n",
       "        text-align: right;\n",
       "    }\n",
       "</style>\n",
       "<table border=\"1\" class=\"dataframe\">\n",
       "  <thead>\n",
       "    <tr style=\"text-align: right;\">\n",
       "      <th></th>\n",
       "      <th>Stock</th>\n",
       "      <th>Fabricant</th>\n",
       "      <th>Type</th>\n",
       "      <th>Configuration</th>\n",
       "      <th>0minal Zener Voltage (V)</th>\n",
       "      <th>Zener volatge tolerance</th>\n",
       "      <th>Maximum power dissipation (MW)</th>\n",
       "      <th>Test Current (MA)</th>\n",
       "      <th>Maximum reverse leaking current (UA)</th>\n",
       "      <th>Maximum regulator current (MA)</th>\n",
       "      <th>Maximum Regulator Current Ambient Temperature (°C)</th>\n",
       "      <th>Maximum Zener impedance (OHM)</th>\n",
       "      <th>Packaging</th>\n",
       "      <th>Pin Count</th>\n",
       "      <th>SVHC</th>\n",
       "    </tr>\n",
       "  </thead>\n",
       "  <tbody>\n",
       "    <tr>\n",
       "      <th>2</th>\n",
       "      <td>NaN</td>\n",
       "      <td>11</td>\n",
       "      <td>V</td>\n",
       "      <td>S1</td>\n",
       "      <td>1.8</td>\n",
       "      <td>5%</td>\n",
       "      <td>365.0</td>\n",
       "      <td>0.05</td>\n",
       "      <td>7.5</td>\n",
       "      <td>NaN</td>\n",
       "      <td>NaN</td>\n",
       "      <td>100</td>\n",
       "      <td>7.0</td>\n",
       "      <td>2.0</td>\n",
       "      <td>1.0</td>\n",
       "    </tr>\n",
       "    <tr>\n",
       "      <th>4</th>\n",
       "      <td>NaN</td>\n",
       "      <td>10</td>\n",
       "      <td>V</td>\n",
       "      <td>S1</td>\n",
       "      <td>1.8</td>\n",
       "      <td>5%</td>\n",
       "      <td>400.0</td>\n",
       "      <td>0.25</td>\n",
       "      <td>7.5</td>\n",
       "      <td>120</td>\n",
       "      <td>NaN</td>\n",
       "      <td>1200</td>\n",
       "      <td>2.0</td>\n",
       "      <td>2.0</td>\n",
       "      <td>1.0</td>\n",
       "    </tr>\n",
       "    <tr>\n",
       "      <th>32</th>\n",
       "      <td>NaN</td>\n",
       "      <td>11</td>\n",
       "      <td>V</td>\n",
       "      <td>S1</td>\n",
       "      <td>2.0</td>\n",
       "      <td>5%</td>\n",
       "      <td>365.0</td>\n",
       "      <td>0.05</td>\n",
       "      <td>7.0</td>\n",
       "      <td>NaN</td>\n",
       "      <td>NaN</td>\n",
       "      <td>100</td>\n",
       "      <td>7.0</td>\n",
       "      <td>2.0</td>\n",
       "      <td>1.0</td>\n",
       "    </tr>\n",
       "    <tr>\n",
       "      <th>33</th>\n",
       "      <td>NaN</td>\n",
       "      <td>2</td>\n",
       "      <td>V</td>\n",
       "      <td>S1</td>\n",
       "      <td>2.0</td>\n",
       "      <td>5%</td>\n",
       "      <td>150.0</td>\n",
       "      <td>5.00</td>\n",
       "      <td>100.0</td>\n",
       "      <td>NaN</td>\n",
       "      <td>NaN</td>\n",
       "      <td>100</td>\n",
       "      <td>7.0</td>\n",
       "      <td>2.0</td>\n",
       "      <td>1.0</td>\n",
       "    </tr>\n",
       "    <tr>\n",
       "      <th>34</th>\n",
       "      <td>NaN</td>\n",
       "      <td>2</td>\n",
       "      <td>V</td>\n",
       "      <td>S1</td>\n",
       "      <td>2.0</td>\n",
       "      <td>5%</td>\n",
       "      <td>150.0</td>\n",
       "      <td>5.00</td>\n",
       "      <td>100.0</td>\n",
       "      <td>NaN</td>\n",
       "      <td>NaN</td>\n",
       "      <td>100</td>\n",
       "      <td>7.0</td>\n",
       "      <td>2.0</td>\n",
       "      <td>1.0</td>\n",
       "    </tr>\n",
       "    <tr>\n",
       "      <th>...</th>\n",
       "      <td>...</td>\n",
       "      <td>...</td>\n",
       "      <td>...</td>\n",
       "      <td>...</td>\n",
       "      <td>...</td>\n",
       "      <td>...</td>\n",
       "      <td>...</td>\n",
       "      <td>...</td>\n",
       "      <td>...</td>\n",
       "      <td>...</td>\n",
       "      <td>...</td>\n",
       "      <td>...</td>\n",
       "      <td>...</td>\n",
       "      <td>...</td>\n",
       "      <td>...</td>\n",
       "    </tr>\n",
       "    <tr>\n",
       "      <th>7561</th>\n",
       "      <td>NaN</td>\n",
       "      <td>13</td>\n",
       "      <td>NaN</td>\n",
       "      <td>NaN</td>\n",
       "      <td>NaN</td>\n",
       "      <td>NaN</td>\n",
       "      <td>NaN</td>\n",
       "      <td>NaN</td>\n",
       "      <td>NaN</td>\n",
       "      <td>NaN</td>\n",
       "      <td>NaN</td>\n",
       "      <td>NaN</td>\n",
       "      <td>NaN</td>\n",
       "      <td>NaN</td>\n",
       "      <td>0.0</td>\n",
       "    </tr>\n",
       "    <tr>\n",
       "      <th>7562</th>\n",
       "      <td>NaN</td>\n",
       "      <td>13</td>\n",
       "      <td>NaN</td>\n",
       "      <td>NaN</td>\n",
       "      <td>NaN</td>\n",
       "      <td>NaN</td>\n",
       "      <td>NaN</td>\n",
       "      <td>NaN</td>\n",
       "      <td>NaN</td>\n",
       "      <td>NaN</td>\n",
       "      <td>NaN</td>\n",
       "      <td>NaN</td>\n",
       "      <td>NaN</td>\n",
       "      <td>NaN</td>\n",
       "      <td>0.0</td>\n",
       "    </tr>\n",
       "    <tr>\n",
       "      <th>7563</th>\n",
       "      <td>NaN</td>\n",
       "      <td>13</td>\n",
       "      <td>NaN</td>\n",
       "      <td>NaN</td>\n",
       "      <td>NaN</td>\n",
       "      <td>NaN</td>\n",
       "      <td>NaN</td>\n",
       "      <td>NaN</td>\n",
       "      <td>NaN</td>\n",
       "      <td>NaN</td>\n",
       "      <td>NaN</td>\n",
       "      <td>NaN</td>\n",
       "      <td>NaN</td>\n",
       "      <td>NaN</td>\n",
       "      <td>0.0</td>\n",
       "    </tr>\n",
       "    <tr>\n",
       "      <th>7564</th>\n",
       "      <td>NaN</td>\n",
       "      <td>13</td>\n",
       "      <td>NaN</td>\n",
       "      <td>NaN</td>\n",
       "      <td>NaN</td>\n",
       "      <td>NaN</td>\n",
       "      <td>NaN</td>\n",
       "      <td>NaN</td>\n",
       "      <td>NaN</td>\n",
       "      <td>NaN</td>\n",
       "      <td>NaN</td>\n",
       "      <td>NaN</td>\n",
       "      <td>7.0</td>\n",
       "      <td>2.0</td>\n",
       "      <td>0.0</td>\n",
       "    </tr>\n",
       "    <tr>\n",
       "      <th>7565</th>\n",
       "      <td>NaN</td>\n",
       "      <td>13</td>\n",
       "      <td>NaN</td>\n",
       "      <td>NaN</td>\n",
       "      <td>NaN</td>\n",
       "      <td>NaN</td>\n",
       "      <td>NaN</td>\n",
       "      <td>NaN</td>\n",
       "      <td>NaN</td>\n",
       "      <td>NaN</td>\n",
       "      <td>NaN</td>\n",
       "      <td>NaN</td>\n",
       "      <td>7.0</td>\n",
       "      <td>2.0</td>\n",
       "      <td>0.0</td>\n",
       "    </tr>\n",
       "  </tbody>\n",
       "</table>\n",
       "<p>4071 rows × 15 columns</p>\n",
       "</div>"
      ],
      "text/plain": [
       "     Stock  Fabricant Type Configuration  0minal Zener Voltage (V)  \\\n",
       "2      NaN         11    V            S1                       1.8   \n",
       "4      NaN         10    V            S1                       1.8   \n",
       "32     NaN         11    V            S1                       2.0   \n",
       "33     NaN          2    V            S1                       2.0   \n",
       "34     NaN          2    V            S1                       2.0   \n",
       "...    ...        ...  ...           ...                       ...   \n",
       "7561   NaN         13  NaN           NaN                       NaN   \n",
       "7562   NaN         13  NaN           NaN                       NaN   \n",
       "7563   NaN         13  NaN           NaN                       NaN   \n",
       "7564   NaN         13  NaN           NaN                       NaN   \n",
       "7565   NaN         13  NaN           NaN                       NaN   \n",
       "\n",
       "     Zener volatge tolerance  Maximum power dissipation (MW)  \\\n",
       "2                         5%                           365.0   \n",
       "4                         5%                           400.0   \n",
       "32                        5%                           365.0   \n",
       "33                        5%                           150.0   \n",
       "34                        5%                           150.0   \n",
       "...                      ...                             ...   \n",
       "7561                     NaN                             NaN   \n",
       "7562                     NaN                             NaN   \n",
       "7563                     NaN                             NaN   \n",
       "7564                     NaN                             NaN   \n",
       "7565                     NaN                             NaN   \n",
       "\n",
       "      Test Current (MA)  Maximum reverse leaking current (UA)  \\\n",
       "2                  0.05                                   7.5   \n",
       "4                  0.25                                   7.5   \n",
       "32                 0.05                                   7.0   \n",
       "33                 5.00                                 100.0   \n",
       "34                 5.00                                 100.0   \n",
       "...                 ...                                   ...   \n",
       "7561                NaN                                   NaN   \n",
       "7562                NaN                                   NaN   \n",
       "7563                NaN                                   NaN   \n",
       "7564                NaN                                   NaN   \n",
       "7565                NaN                                   NaN   \n",
       "\n",
       "     Maximum regulator current (MA)  \\\n",
       "2                               NaN   \n",
       "4                               120   \n",
       "32                              NaN   \n",
       "33                              NaN   \n",
       "34                              NaN   \n",
       "...                             ...   \n",
       "7561                            NaN   \n",
       "7562                            NaN   \n",
       "7563                            NaN   \n",
       "7564                            NaN   \n",
       "7565                            NaN   \n",
       "\n",
       "      Maximum Regulator Current Ambient Temperature (°C)  \\\n",
       "2                                                   NaN    \n",
       "4                                                   NaN    \n",
       "32                                                  NaN    \n",
       "33                                                  NaN    \n",
       "34                                                  NaN    \n",
       "...                                                 ...    \n",
       "7561                                                NaN    \n",
       "7562                                                NaN    \n",
       "7563                                                NaN    \n",
       "7564                                                NaN    \n",
       "7565                                                NaN    \n",
       "\n",
       "     Maximum Zener impedance (OHM)  Packaging  Pin Count  SVHC  \n",
       "2                              100        7.0        2.0   1.0  \n",
       "4                             1200        2.0        2.0   1.0  \n",
       "32                             100        7.0        2.0   1.0  \n",
       "33                             100        7.0        2.0   1.0  \n",
       "34                             100        7.0        2.0   1.0  \n",
       "...                            ...        ...        ...   ...  \n",
       "7561                           NaN        NaN        NaN   0.0  \n",
       "7562                           NaN        NaN        NaN   0.0  \n",
       "7563                           NaN        NaN        NaN   0.0  \n",
       "7564                           NaN        7.0        2.0   0.0  \n",
       "7565                           NaN        7.0        2.0   0.0  \n",
       "\n",
       "[4071 rows x 15 columns]"
      ]
     },
     "execution_count": 327,
     "metadata": {},
     "output_type": "execute_result"
    }
   ],
   "source": [
    "df_train_ss_ref"
   ]
  },
  {
   "cell_type": "markdown",
   "metadata": {},
   "source": [
    "### on va enlever les TYP sur la colonne Maximum Zener impedance (OHM)"
   ]
  },
  {
   "cell_type": "code",
   "execution_count": 328,
   "metadata": {},
   "outputs": [],
   "source": [
    "# extraire les valeurs avant Typ dans la colonne  Maximum Zener impedance (OHM)\n",
    "def extract_current_before_typ(value):\n",
    "    if isinstance(value, str) and \"(Typ)\" in value:\n",
    "        return float(value.split('(Typ)')[0])  # Extrait la partie avant '(Typ)' comme un float\n",
    "    return value  # Retourne la valeur d'origine (par ex. : 9.2)\n"
   ]
  },
  {
   "cell_type": "code",
   "execution_count": 329,
   "metadata": {},
   "outputs": [
    {
     "name": "stdout",
     "output_type": "stream",
     "text": [
      "50.0\n"
     ]
    }
   ],
   "source": [
    "# test \n",
    "print(extract_current_before_typ(\"50(Typ)\"))  # Résultat attendu : 50"
   ]
  },
  {
   "cell_type": "code",
   "execution_count": 330,
   "metadata": {},
   "outputs": [
    {
     "data": {
      "text/plain": [
       "array(['100', '1200', '85', '30', '83', '95', '29', '10', '28', '24', '9',\n",
       "       '8', '90', '23', '2', '7.5', '15', 23.0, '22', '6', '7', '80',\n",
       "       22.0, '19', '5', '1550', '78', '60', 19.0, '17', '1.5', nan, '3.5',\n",
       "       '50', '70', '4', 17.0, '40', '11', '1', '2.5', '25', 11.0, '3',\n",
       "       '20', 5.0, 6.0, '4.5', '2.3', 8.0, 10.0, '5.5', '6.5', 30.0, '26',\n",
       "       '13', '14', '16', '32', '36', '12', '45', '42', '55', '58', '17.5',\n",
       "       '35', '33', '62', 41.0, '44', '49', '65', '88', '75', '38', '130',\n",
       "       '93', '53', '150', '67', '170', '125', '48', '180', '200', '110',\n",
       "       '86', '215', '240', '120', '175', '140', '255', '270', '115',\n",
       "       '400', '250', '350', '750', '450', '300', '225', '380', '190',\n",
       "       '700', '375', '475', '330', '600', '575', '1000', '550', '1100',\n",
       "       '625', '650', '430', '900', '800', '480', '500', '1900', '875',\n",
       "       '1500', '1600', '1050', '2000', '2100', '2300', '2500', '1400',\n",
       "       '1650', '1700', '21', '10.5', '8.5', '6.6', '5.2', '18', '9.5',\n",
       "       '37', '11.4', '13.3', '19.4', '23.5', '25.6', '41', '46', '105',\n",
       "       '27', '135', '202', '185', '230', '155', '160'], dtype=object)"
      ]
     },
     "execution_count": 330,
     "metadata": {},
     "output_type": "execute_result"
    }
   ],
   "source": [
    "df_train_ss_ref[\"Maximum Zener impedance (OHM)\"] = df_train_ss_ref[\"Maximum Zener impedance (OHM)\"].apply(extract_current_before_typ)\n",
    "\n",
    "df_train_ss_ref[\"Maximum Zener impedance (OHM)\"].unique()"
   ]
  },
  {
   "cell_type": "markdown",
   "metadata": {},
   "source": [
    "### On va transformer les % de la colonne Zener volatge tolerance"
   ]
  },
  {
   "cell_type": "code",
   "execution_count": 331,
   "metadata": {},
   "outputs": [],
   "source": [
    "df_train_ss_ref['Zener volatge tolerance'] = df_train_ss_ref['Zener volatge tolerance'].str.replace('%', '').astype(float) / 100"
   ]
  },
  {
   "cell_type": "code",
   "execution_count": 332,
   "metadata": {},
   "outputs": [
    {
     "data": {
      "text/plain": [
       "array([0.05  , 0.08  , 0.02  , 0.07  , 0.06  , 0.1   , 0.03  , 0.2   ,\n",
       "          nan, 0.04  , 0.025 , 0.0395, 0.0256, 0.0588, 0.01  , 0.061 ,\n",
       "       0.0545, 0.0253, 0.0567, 0.0704, 0.0513])"
      ]
     },
     "execution_count": 332,
     "metadata": {},
     "output_type": "execute_result"
    }
   ],
   "source": [
    "df_train_ss_ref['Zener volatge tolerance'].unique()"
   ]
  },
  {
   "cell_type": "markdown",
   "metadata": {},
   "source": [
    "### Transformer les données catégorielles en données numériques de Maximum regulator current (MA) et de  Maximum Zener impedance (OHM)  "
   ]
  },
  {
   "cell_type": "markdown",
   "metadata": {},
   "source": [
    "#### Transformer les données catégorielles en données numériques de Maximum regulator current (MA)"
   ]
  },
  {
   "cell_type": "code",
   "execution_count": 333,
   "metadata": {},
   "outputs": [
    {
     "data": {
      "text/plain": [
       "array([nan, '120', '454', 252.0, '417', '416', 234.0, '1220', '384',\n",
       "       '468', '768', 217.0, '1100', '348', '1010', '319', '164', '638',\n",
       "       '930', 356.0, '520', '356', '588', '196', '865', '267', '432.3',\n",
       "       '268', 324.0, '480', '179', '324', '790', 146.0, '241', '242',\n",
       "       292.0, '435', '61', '482', '161', '220', '221', '55', '440', '147',\n",
       "       '266', '393', '200', '133', '580', '182', 220.0, '45', '122',\n",
       "       '270.6', '297', '110', '475', '150', '100', '270', 83.0, '430',\n",
       "       '136', '125', 152.0, '83', '365', '115', '208', '98', '340', '315',\n",
       "       '180', '132', '67', '169', '93', '114', 50.0, '264', 100.0, '56',\n",
       "       '70', '75', '90', '50', '68', 82.0, '123', '198', '62', '63', '76',\n",
       "       '42', '51', '190', '37', '46', '158', '33', '30', '38', '41', '28',\n",
       "       '69', '26', '31', '34', '32', '29', 36.0, '36', '24', '48', '27',\n",
       "       '20', '40', '18', 11.0, '58', '52.5', 20.0, 9.0, '47.5', '15',\n",
       "       '43', '8.6', '25', '12', '22', '36.6', '11', '7', '21', '19',\n",
       "       '31.6', '10', 12.0, '6.4', '9.5', '29.4', '5.8', '17', '16',\n",
       "       '26.4', '8', '5.2', '14', '23.6', '4.7', '13', '4', '3.6', '3.3',\n",
       "       '3', '2.7', '95', '185', '134', '135', '118', '85', '152', '109',\n",
       "       '80', '252', '139', '128', '92', '116', '84', '65', '106', '60',\n",
       "       '89', '59', '81', '54', '74', '49', '44', '23', '16.3', '57', '9',\n",
       "       '7.8', '6', '5.9'], dtype=object)"
      ]
     },
     "execution_count": 333,
     "metadata": {},
     "output_type": "execute_result"
    }
   ],
   "source": [
    "df_train_ss_ref['Maximum regulator current (MA)'].unique()"
   ]
  },
  {
   "cell_type": "code",
   "execution_count": 334,
   "metadata": {},
   "outputs": [
    {
     "data": {
      "text/plain": [
       "array([   nan,  120. ,  454. ,  252. ,  417. ,  416. ,  234. , 1220. ,\n",
       "        384. ,  468. ,  768. ,  217. , 1100. ,  348. , 1010. ,  319. ,\n",
       "        164. ,  638. ,  930. ,  356. ,  520. ,  588. ,  196. ,  865. ,\n",
       "        267. ,  432.3,  268. ,  324. ,  480. ,  179. ,  790. ,  146. ,\n",
       "        241. ,  242. ,  292. ,  435. ,   61. ,  482. ,  161. ,  220. ,\n",
       "        221. ,   55. ,  440. ,  147. ,  266. ,  393. ,  200. ,  133. ,\n",
       "        580. ,  182. ,   45. ,  122. ,  270.6,  297. ,  110. ,  475. ,\n",
       "        150. ,  100. ,  270. ,   83. ,  430. ,  136. ,  125. ,  152. ,\n",
       "        365. ,  115. ,  208. ,   98. ,  340. ,  315. ,  180. ,  132. ,\n",
       "         67. ,  169. ,   93. ,  114. ,   50. ,  264. ,   56. ,   70. ,\n",
       "         75. ,   90. ,   68. ,   82. ,  123. ,  198. ,   62. ,   63. ,\n",
       "         76. ,   42. ,   51. ,  190. ,   37. ,   46. ,  158. ,   33. ,\n",
       "         30. ,   38. ,   41. ,   28. ,   69. ,   26. ,   31. ,   34. ,\n",
       "         32. ,   29. ,   36. ,   24. ,   48. ,   27. ,   20. ,   40. ,\n",
       "         18. ,   11. ,   58. ,   52.5,    9. ,   47.5,   15. ,   43. ,\n",
       "          8.6,   25. ,   12. ,   22. ,   36.6,    7. ,   21. ,   19. ,\n",
       "         31.6,   10. ,    6.4,    9.5,   29.4,    5.8,   17. ,   16. ,\n",
       "         26.4,    8. ,    5.2,   14. ,   23.6,    4.7,   13. ,    4. ,\n",
       "          3.6,    3.3,    3. ,    2.7,   95. ,  185. ,  134. ,  135. ,\n",
       "        118. ,   85. ,  109. ,   80. ,  139. ,  128. ,   92. ,  116. ,\n",
       "         84. ,   65. ,  106. ,   60. ,   89. ,   59. ,   81. ,   54. ,\n",
       "         74. ,   49. ,   44. ,   23. ,   16.3,   57. ,    7.8,    6. ,\n",
       "          5.9])"
      ]
     },
     "execution_count": 334,
     "metadata": {},
     "output_type": "execute_result"
    }
   ],
   "source": [
    "df_train_ss_ref['Maximum regulator current (MA)'] = pd.to_numeric(\n",
    "    df_train_ss_ref['Maximum regulator current (MA)'], errors='coerce'\n",
    ")\n",
    "df_train_ss_ref['Maximum regulator current (MA)'].unique()"
   ]
  },
  {
   "cell_type": "markdown",
   "metadata": {},
   "source": [
    "#### Transformer les données catégorielles en données numériques de Maximum Zener impedance (OHM)"
   ]
  },
  {
   "cell_type": "code",
   "execution_count": 335,
   "metadata": {},
   "outputs": [
    {
     "data": {
      "text/plain": [
       "array([1.00e+02, 1.20e+03, 8.50e+01, 3.00e+01, 8.30e+01, 9.50e+01,\n",
       "       2.90e+01, 1.00e+01, 2.80e+01, 2.40e+01, 9.00e+00, 8.00e+00,\n",
       "       9.00e+01, 2.30e+01, 2.00e+00, 7.50e+00, 1.50e+01, 2.20e+01,\n",
       "       6.00e+00, 7.00e+00, 8.00e+01, 1.90e+01, 5.00e+00, 1.55e+03,\n",
       "       7.80e+01, 6.00e+01, 1.70e+01, 1.50e+00,      nan, 3.50e+00,\n",
       "       5.00e+01, 7.00e+01, 4.00e+00, 4.00e+01, 1.10e+01, 1.00e+00,\n",
       "       2.50e+00, 2.50e+01, 3.00e+00, 2.00e+01, 4.50e+00, 2.30e+00,\n",
       "       5.50e+00, 6.50e+00, 2.60e+01, 1.30e+01, 1.40e+01, 1.60e+01,\n",
       "       3.20e+01, 3.60e+01, 1.20e+01, 4.50e+01, 4.20e+01, 5.50e+01,\n",
       "       5.80e+01, 1.75e+01, 3.50e+01, 3.30e+01, 6.20e+01, 4.10e+01,\n",
       "       4.40e+01, 4.90e+01, 6.50e+01, 8.80e+01, 7.50e+01, 3.80e+01,\n",
       "       1.30e+02, 9.30e+01, 5.30e+01, 1.50e+02, 6.70e+01, 1.70e+02,\n",
       "       1.25e+02, 4.80e+01, 1.80e+02, 2.00e+02, 1.10e+02, 8.60e+01,\n",
       "       2.15e+02, 2.40e+02, 1.20e+02, 1.75e+02, 1.40e+02, 2.55e+02,\n",
       "       2.70e+02, 1.15e+02, 4.00e+02, 2.50e+02, 3.50e+02, 7.50e+02,\n",
       "       4.50e+02, 3.00e+02, 2.25e+02, 3.80e+02, 1.90e+02, 7.00e+02,\n",
       "       3.75e+02, 4.75e+02, 3.30e+02, 6.00e+02, 5.75e+02, 1.00e+03,\n",
       "       5.50e+02, 1.10e+03, 6.25e+02, 6.50e+02, 4.30e+02, 9.00e+02,\n",
       "       8.00e+02, 4.80e+02, 5.00e+02, 1.90e+03, 8.75e+02, 1.50e+03,\n",
       "       1.60e+03, 1.05e+03, 2.00e+03, 2.10e+03, 2.30e+03, 2.50e+03,\n",
       "       1.40e+03, 1.65e+03, 1.70e+03, 2.10e+01, 1.05e+01, 8.50e+00,\n",
       "       6.60e+00, 5.20e+00, 1.80e+01, 9.50e+00, 3.70e+01, 1.14e+01,\n",
       "       1.33e+01, 1.94e+01, 2.35e+01, 2.56e+01, 4.60e+01, 1.05e+02,\n",
       "       2.70e+01, 1.35e+02, 2.02e+02, 1.85e+02, 2.30e+02, 1.55e+02,\n",
       "       1.60e+02])"
      ]
     },
     "execution_count": 335,
     "metadata": {},
     "output_type": "execute_result"
    }
   ],
   "source": [
    "df_train_ss_ref['Maximum Zener impedance (OHM)'] = pd.to_numeric(\n",
    "    df_train_ss_ref['Maximum Zener impedance (OHM)'], errors='coerce'\n",
    ")\n",
    "df_train_ss_ref['Maximum Zener impedance (OHM)'].unique()"
   ]
  },
  {
   "cell_type": "markdown",
   "metadata": {},
   "source": [
    "### on va créer un nouveau csv pour vérifier que les données ont bien été traitées"
   ]
  },
  {
   "cell_type": "code",
   "execution_count": 336,
   "metadata": {},
   "outputs": [
    {
     "data": {
      "text/plain": [
       "'C:/Users/scoup/Downloads/updated_arrow_data_lv_with_temperature.csv'"
      ]
     },
     "execution_count": 336,
     "metadata": {},
     "output_type": "execute_result"
    }
   ],
   "source": [
    "# Sauvegarder le fichier mis à jour\n",
    "updated_file_path_2 = 'C:/Users/scoup/Downloads/updated_arrow_data_lv_with_temperature.csv'\n",
    "df_train_ss_ref.to_csv(updated_file_path_2, index=False)\n",
    "updated_file_path_2"
   ]
  },
  {
   "cell_type": "code",
   "execution_count": 337,
   "metadata": {},
   "outputs": [
    {
     "data": {
      "text/html": [
       "<div>\n",
       "<style scoped>\n",
       "    .dataframe tbody tr th:only-of-type {\n",
       "        vertical-align: middle;\n",
       "    }\n",
       "\n",
       "    .dataframe tbody tr th {\n",
       "        vertical-align: top;\n",
       "    }\n",
       "\n",
       "    .dataframe thead th {\n",
       "        text-align: right;\n",
       "    }\n",
       "</style>\n",
       "<table border=\"1\" class=\"dataframe\">\n",
       "  <thead>\n",
       "    <tr style=\"text-align: right;\">\n",
       "      <th></th>\n",
       "      <th>Stock</th>\n",
       "      <th>Fabricant</th>\n",
       "      <th>Type</th>\n",
       "      <th>Configuration</th>\n",
       "      <th>0minal Zener Voltage (V)</th>\n",
       "      <th>Zener volatge tolerance</th>\n",
       "      <th>Maximum power dissipation (MW)</th>\n",
       "      <th>Test Current (MA)</th>\n",
       "      <th>Maximum reverse leaking current (UA)</th>\n",
       "      <th>Maximum regulator current (MA)</th>\n",
       "      <th>Maximum Regulator Current Ambient Temperature (°C)</th>\n",
       "      <th>Maximum Zener impedance (OHM)</th>\n",
       "      <th>Packaging</th>\n",
       "      <th>Pin Count</th>\n",
       "      <th>SVHC</th>\n",
       "    </tr>\n",
       "  </thead>\n",
       "  <tbody>\n",
       "    <tr>\n",
       "      <th>2</th>\n",
       "      <td>NaN</td>\n",
       "      <td>11</td>\n",
       "      <td>V</td>\n",
       "      <td>S1</td>\n",
       "      <td>1.8</td>\n",
       "      <td>0.05</td>\n",
       "      <td>365.0</td>\n",
       "      <td>0.05</td>\n",
       "      <td>7.5</td>\n",
       "      <td>NaN</td>\n",
       "      <td>NaN</td>\n",
       "      <td>100.0</td>\n",
       "      <td>7.0</td>\n",
       "      <td>2.0</td>\n",
       "      <td>1.0</td>\n",
       "    </tr>\n",
       "    <tr>\n",
       "      <th>4</th>\n",
       "      <td>NaN</td>\n",
       "      <td>10</td>\n",
       "      <td>V</td>\n",
       "      <td>S1</td>\n",
       "      <td>1.8</td>\n",
       "      <td>0.05</td>\n",
       "      <td>400.0</td>\n",
       "      <td>0.25</td>\n",
       "      <td>7.5</td>\n",
       "      <td>120.0</td>\n",
       "      <td>NaN</td>\n",
       "      <td>1200.0</td>\n",
       "      <td>2.0</td>\n",
       "      <td>2.0</td>\n",
       "      <td>1.0</td>\n",
       "    </tr>\n",
       "    <tr>\n",
       "      <th>32</th>\n",
       "      <td>NaN</td>\n",
       "      <td>11</td>\n",
       "      <td>V</td>\n",
       "      <td>S1</td>\n",
       "      <td>2.0</td>\n",
       "      <td>0.05</td>\n",
       "      <td>365.0</td>\n",
       "      <td>0.05</td>\n",
       "      <td>7.0</td>\n",
       "      <td>NaN</td>\n",
       "      <td>NaN</td>\n",
       "      <td>100.0</td>\n",
       "      <td>7.0</td>\n",
       "      <td>2.0</td>\n",
       "      <td>1.0</td>\n",
       "    </tr>\n",
       "    <tr>\n",
       "      <th>33</th>\n",
       "      <td>NaN</td>\n",
       "      <td>2</td>\n",
       "      <td>V</td>\n",
       "      <td>S1</td>\n",
       "      <td>2.0</td>\n",
       "      <td>0.05</td>\n",
       "      <td>150.0</td>\n",
       "      <td>5.00</td>\n",
       "      <td>100.0</td>\n",
       "      <td>NaN</td>\n",
       "      <td>NaN</td>\n",
       "      <td>100.0</td>\n",
       "      <td>7.0</td>\n",
       "      <td>2.0</td>\n",
       "      <td>1.0</td>\n",
       "    </tr>\n",
       "    <tr>\n",
       "      <th>34</th>\n",
       "      <td>NaN</td>\n",
       "      <td>2</td>\n",
       "      <td>V</td>\n",
       "      <td>S1</td>\n",
       "      <td>2.0</td>\n",
       "      <td>0.05</td>\n",
       "      <td>150.0</td>\n",
       "      <td>5.00</td>\n",
       "      <td>100.0</td>\n",
       "      <td>NaN</td>\n",
       "      <td>NaN</td>\n",
       "      <td>100.0</td>\n",
       "      <td>7.0</td>\n",
       "      <td>2.0</td>\n",
       "      <td>1.0</td>\n",
       "    </tr>\n",
       "  </tbody>\n",
       "</table>\n",
       "</div>"
      ],
      "text/plain": [
       "   Stock  Fabricant Type Configuration  0minal Zener Voltage (V)  \\\n",
       "2    NaN         11    V            S1                       1.8   \n",
       "4    NaN         10    V            S1                       1.8   \n",
       "32   NaN         11    V            S1                       2.0   \n",
       "33   NaN          2    V            S1                       2.0   \n",
       "34   NaN          2    V            S1                       2.0   \n",
       "\n",
       "    Zener volatge tolerance  Maximum power dissipation (MW)  \\\n",
       "2                      0.05                           365.0   \n",
       "4                      0.05                           400.0   \n",
       "32                     0.05                           365.0   \n",
       "33                     0.05                           150.0   \n",
       "34                     0.05                           150.0   \n",
       "\n",
       "    Test Current (MA)  Maximum reverse leaking current (UA)  \\\n",
       "2                0.05                                   7.5   \n",
       "4                0.25                                   7.5   \n",
       "32               0.05                                   7.0   \n",
       "33               5.00                                 100.0   \n",
       "34               5.00                                 100.0   \n",
       "\n",
       "    Maximum regulator current (MA)  \\\n",
       "2                              NaN   \n",
       "4                            120.0   \n",
       "32                             NaN   \n",
       "33                             NaN   \n",
       "34                             NaN   \n",
       "\n",
       "    Maximum Regulator Current Ambient Temperature (°C)  \\\n",
       "2                                                 NaN    \n",
       "4                                                 NaN    \n",
       "32                                                NaN    \n",
       "33                                                NaN    \n",
       "34                                                NaN    \n",
       "\n",
       "    Maximum Zener impedance (OHM)  Packaging  Pin Count  SVHC  \n",
       "2                           100.0        7.0        2.0   1.0  \n",
       "4                          1200.0        2.0        2.0   1.0  \n",
       "32                          100.0        7.0        2.0   1.0  \n",
       "33                          100.0        7.0        2.0   1.0  \n",
       "34                          100.0        7.0        2.0   1.0  "
      ]
     },
     "execution_count": 337,
     "metadata": {},
     "output_type": "execute_result"
    }
   ],
   "source": [
    "df_train_ss_ref.head()"
   ]
  },
  {
   "cell_type": "code",
   "execution_count": 338,
   "metadata": {},
   "outputs": [
    {
     "data": {
      "text/plain": [
       "array([1.00e+02, 1.20e+03, 8.50e+01, 3.00e+01, 8.30e+01, 9.50e+01,\n",
       "       2.90e+01, 1.00e+01, 2.80e+01, 2.40e+01, 9.00e+00, 8.00e+00,\n",
       "       9.00e+01, 2.30e+01, 2.00e+00, 7.50e+00, 1.50e+01, 2.20e+01,\n",
       "       6.00e+00, 7.00e+00, 8.00e+01, 1.90e+01, 5.00e+00, 1.55e+03,\n",
       "       7.80e+01, 6.00e+01, 1.70e+01, 1.50e+00,      nan, 3.50e+00,\n",
       "       5.00e+01, 7.00e+01, 4.00e+00, 4.00e+01, 1.10e+01, 1.00e+00,\n",
       "       2.50e+00, 2.50e+01, 3.00e+00, 2.00e+01, 4.50e+00, 2.30e+00,\n",
       "       5.50e+00, 6.50e+00, 2.60e+01, 1.30e+01, 1.40e+01, 1.60e+01,\n",
       "       3.20e+01, 3.60e+01, 1.20e+01, 4.50e+01, 4.20e+01, 5.50e+01,\n",
       "       5.80e+01, 1.75e+01, 3.50e+01, 3.30e+01, 6.20e+01, 4.10e+01,\n",
       "       4.40e+01, 4.90e+01, 6.50e+01, 8.80e+01, 7.50e+01, 3.80e+01,\n",
       "       1.30e+02, 9.30e+01, 5.30e+01, 1.50e+02, 6.70e+01, 1.70e+02,\n",
       "       1.25e+02, 4.80e+01, 1.80e+02, 2.00e+02, 1.10e+02, 8.60e+01,\n",
       "       2.15e+02, 2.40e+02, 1.20e+02, 1.75e+02, 1.40e+02, 2.55e+02,\n",
       "       2.70e+02, 1.15e+02, 4.00e+02, 2.50e+02, 3.50e+02, 7.50e+02,\n",
       "       4.50e+02, 3.00e+02, 2.25e+02, 3.80e+02, 1.90e+02, 7.00e+02,\n",
       "       3.75e+02, 4.75e+02, 3.30e+02, 6.00e+02, 5.75e+02, 1.00e+03,\n",
       "       5.50e+02, 1.10e+03, 6.25e+02, 6.50e+02, 4.30e+02, 9.00e+02,\n",
       "       8.00e+02, 4.80e+02, 5.00e+02, 1.90e+03, 8.75e+02, 1.50e+03,\n",
       "       1.60e+03, 1.05e+03, 2.00e+03, 2.10e+03, 2.30e+03, 2.50e+03,\n",
       "       1.40e+03, 1.65e+03, 1.70e+03, 2.10e+01, 1.05e+01, 8.50e+00,\n",
       "       6.60e+00, 5.20e+00, 1.80e+01, 9.50e+00, 3.70e+01, 1.14e+01,\n",
       "       1.33e+01, 1.94e+01, 2.35e+01, 2.56e+01, 4.60e+01, 1.05e+02,\n",
       "       2.70e+01, 1.35e+02, 2.02e+02, 1.85e+02, 2.30e+02, 1.55e+02,\n",
       "       1.60e+02])"
      ]
     },
     "execution_count": 338,
     "metadata": {},
     "output_type": "execute_result"
    }
   ],
   "source": [
    "df_train_ss_ref[\"Maximum Zener impedance (OHM)\"].unique()"
   ]
  },
  {
   "cell_type": "code",
   "execution_count": 339,
   "metadata": {},
   "outputs": [
    {
     "name": "stdout",
     "output_type": "stream",
     "text": [
      "Stock                                                  object\n",
      "Fabricant                                               int64\n",
      "Type                                                   object\n",
      "Configuration                                          object\n",
      "0minal Zener Voltage (V)                              float64\n",
      "Zener volatge tolerance                               float64\n",
      "Maximum power dissipation (MW)                        float64\n",
      "Test Current (MA)                                     float64\n",
      "Maximum reverse leaking current (UA)                  float64\n",
      "Maximum regulator current (MA)                        float64\n",
      "Maximum Regulator Current Ambient Temperature (°C)    float64\n",
      "Maximum Zener impedance (OHM)                         float64\n",
      "Packaging                                             float64\n",
      "Pin Count                                             float64\n",
      "SVHC                                                  float64\n",
      "dtype: object\n"
     ]
    }
   ],
   "source": [
    "print(df_train_ss_ref.dtypes)\n"
   ]
  },
  {
   "cell_type": "markdown",
   "metadata": {},
   "source": [
    "# PCA pour voir les principales composantes"
   ]
  },
  {
   "cell_type": "markdown",
   "metadata": {},
   "source": [
    "## Peut être encoder de manière numérique les colonnes Type et Configuration  "
   ]
  },
  {
   "cell_type": "code",
   "execution_count": 340,
   "metadata": {},
   "outputs": [
    {
     "name": "stdout",
     "output_type": "stream",
     "text": [
      "['Stock', 'Fabricant', 'Type', 'Configuration', '0minal Zener Voltage (V)', 'Zener volatge tolerance', 'Maximum power dissipation (MW)', 'Test Current (MA)', 'Maximum reverse leaking current (UA)', 'Maximum regulator current (MA)', 'Maximum Regulator Current Ambient Temperature (°C)', 'Maximum Zener impedance (OHM)', 'Packaging', 'Pin Count', 'SVHC']\n"
     ]
    }
   ],
   "source": [
    "print(df_train_ss_ref.columns.tolist())"
   ]
  },
  {
   "cell_type": "code",
   "execution_count": 341,
   "metadata": {},
   "outputs": [
    {
     "name": "stdout",
     "output_type": "stream",
     "text": [
      "Colonnes sélectionnées pour la PCA : ['Fabricant', '0minal Zener Voltage (V)', 'Zener volatge tolerance', 'Maximum power dissipation (MW)', 'Test Current (MA)', 'Maximum reverse leaking current (UA)', 'Maximum regulator current (MA)', 'Maximum Regulator Current Ambient Temperature (°C)', 'Maximum Zener impedance (OHM)', 'Packaging', 'Pin Count']\n"
     ]
    }
   ],
   "source": [
    "from sklearn.preprocessing import StandardScaler\n",
    "from sklearn.decomposition import PCA\n",
    "import pandas as pd\n",
    "\n",
    "# Supposons que les colonnes sont nommées \"a\", \"b\", ..., \"p\"\n",
    "columns = list(df_train_ss_ref.columns)\n",
    "\n",
    "# Sélection des colonnes de la 5e à l'avant-dernière, sans prendre la 3e et 4e\n",
    "selected_columns = columns[1:2] + columns[4:-1]  # Exclut la 3e et 4e colonnes\n",
    "print(\"Colonnes sélectionnées pour la PCA :\", selected_columns)\n",
    "\n",
    "# Filtrer le DataFrame pour ne garder que les colonnes sélectionnées\n",
    "df_selected = df_train_ss_ref[selected_columns]\n",
    "\n"
   ]
  },
  {
   "cell_type": "code",
   "execution_count": 343,
   "metadata": {},
   "outputs": [
    {
     "ename": "AttributeError",
     "evalue": "'numpy.ndarray' object has no attribute 'loc'",
     "output_type": "error",
     "traceback": [
      "\u001b[1;31m---------------------------------------------------------------------------\u001b[0m",
      "\u001b[1;31mAttributeError\u001b[0m                            Traceback (most recent call last)",
      "Cell \u001b[1;32mIn[343], line 15\u001b[0m\n\u001b[0;32m     12\u001b[0m principalDf \u001b[38;5;241m=\u001b[39m pd\u001b[38;5;241m.\u001b[39mDataFrame(data\u001b[38;5;241m=\u001b[39mprincipalComponents, columns\u001b[38;5;241m=\u001b[39m[\u001b[38;5;124m'\u001b[39m\u001b[38;5;124mprincipal component 1\u001b[39m\u001b[38;5;124m'\u001b[39m, \u001b[38;5;124m'\u001b[39m\u001b[38;5;124mprincipal component 2\u001b[39m\u001b[38;5;124m'\u001b[39m])\n\u001b[0;32m     14\u001b[0m \u001b[38;5;66;03m# Ajouter la colonne target pour les indices correspondants après dropna()\u001b[39;00m\n\u001b[1;32m---> 15\u001b[0m principalDf[\u001b[38;5;124m'\u001b[39m\u001b[38;5;124mtarget\u001b[39m\u001b[38;5;124m'\u001b[39m] \u001b[38;5;241m=\u001b[39m df_selected_ss_na\u001b[38;5;241m.\u001b[39mloc[df_selected_ss_na\u001b[38;5;241m.\u001b[39mindex, \u001b[38;5;124m\"\u001b[39m\u001b[38;5;124mSVHC\u001b[39m\u001b[38;5;124m\"\u001b[39m]\u001b[38;5;241m.\u001b[39mvalues\n\u001b[0;32m     17\u001b[0m \u001b[38;5;28mprint\u001b[39m(principalDf)\n",
      "\u001b[1;31mAttributeError\u001b[0m: 'numpy.ndarray' object has no attribute 'loc'"
     ]
    }
   ],
   "source": [
    "# Supprimer les lignes contenant des NaN dans les colonnes sélectionnées\n",
    "df_selected_ss_na = df_selected.dropna()\n",
    "\n",
    "# Standardiser les données (nécessaire pour la PCA)\n",
    "df_selected_ss_na = StandardScaler().fit_transform(df_selected_ss_na)\n",
    "\n",
    "# Effectuer la PCA\n",
    "pca = PCA(n_components=2)  # Réduire à 2 dimensions principales\n",
    "principalComponents = pca.fit_transform(df_selected_ss_na)\n",
    "\n",
    "# Créer un DataFrame avec les composantes principales\n",
    "principalDf = pd.DataFrame(data=principalComponents, columns=['principal component 1', 'principal component 2'])\n",
    "\n",
    "# Ajouter la colonne target pour les indices correspondants après dropna()\n",
    "principalDf['target'] = df_selected_ss_na.loc[df_selected_ss_na.index, \"SVHC\"].values\n",
    "\n",
    "print(principalDf)\n",
    "\n"
   ]
  },
  {
   "cell_type": "code",
   "execution_count": 227,
   "metadata": {},
   "outputs": [
    {
     "name": "stdout",
     "output_type": "stream",
     "text": [
      "Charges des colonnes dans les composantes principales :\n",
      "                                                    Principal Component 1  \\\n",
      "Fabricant                                                       -0.000000   \n",
      "0minal Zener Voltage (V)                                        -0.336453   \n",
      "Zener volatge tolerance                                         -0.131267   \n",
      "Maximum power dissipation (MW)                                   0.405873   \n",
      "Test Current (MA)                                                0.346852   \n",
      "Maximum reverse leaking current (UA)                            -0.166930   \n",
      "Maximum regulator current (MA)                                   0.345198   \n",
      "Maximum Regulator Current Ambient Temperature (°C)               0.405873   \n",
      "Maximum Zener impedance (OHM)                                   -0.328688   \n",
      "Maximum power dissipation (MW                                    0.405873   \n",
      "Packaging                                                       -0.000000   \n",
      "Pin Count                                                       -0.000000   \n",
      "\n",
      "                                                    Principal Component 2  \n",
      "Fabricant                                                       -0.000000  \n",
      "0minal Zener Voltage (V)                                        -0.382962  \n",
      "Zener volatge tolerance                                          0.215177  \n",
      "Maximum power dissipation (MW)                                  -0.297848  \n",
      "Test Current (MA)                                                0.338797  \n",
      "Maximum reverse leaking current (UA)                             0.459065  \n",
      "Maximum regulator current (MA)                                   0.340788  \n",
      "Maximum Regulator Current Ambient Temperature (°C)              -0.297848  \n",
      "Maximum Zener impedance (OHM)                                   -0.315019  \n",
      "Maximum power dissipation (MW                                   -0.297848  \n",
      "Packaging                                                       -0.000000  \n",
      "Pin Count                                                       -0.000000  \n"
     ]
    }
   ],
   "source": [
    "# Obtenir les charges (importance des colonnes dans les composantes principales)\n",
    "loadings = pd.DataFrame(\n",
    "    pca.components_.T,\n",
    "    columns=['Principal Component 1', 'Principal Component 2'],\n",
    "    index=selected_columns\n",
    ")\n",
    "\n",
    "print(\"Charges des colonnes dans les composantes principales :\")\n",
    "print(loadings)"
   ]
  },
  {
   "cell_type": "code",
   "execution_count": 224,
   "metadata": {},
   "outputs": [
    {
     "name": "stdout",
     "output_type": "stream",
     "text": [
      "Colonnes les plus importantes pour la première composante principale :\n",
      "Maximum power dissipation (MW)                        0.405873\n",
      "Maximum Regulator Current Ambient Temperature (°C)    0.405873\n",
      "Maximum power dissipation (MW                         0.405873\n",
      "Test Current (MA)                                     0.346852\n",
      "Maximum regulator current (MA)                        0.345198\n",
      "0minal Zener Voltage (V)                              0.336453\n",
      "Maximum Zener impedance (OHM)                         0.328688\n",
      "Maximum reverse leaking current (UA)                  0.166930\n",
      "Zener volatge tolerance                               0.131267\n",
      "Fabricant                                             0.000000\n",
      "Packaging                                             0.000000\n",
      "Pin Count                                             0.000000\n",
      "Name: Principal Component 1, dtype: float64\n"
     ]
    }
   ],
   "source": [
    "# Identifier les colonnes les plus importantes pour la première composante principale\n",
    "important_columns_pc1 = loadings['Principal Component 1'].abs().sort_values(ascending=False)\n",
    "print(\"Colonnes les plus importantes pour la première composante principale :\")\n",
    "print(important_columns_pc1)"
   ]
  },
  {
   "cell_type": "code",
   "execution_count": 228,
   "metadata": {},
   "outputs": [
    {
     "name": "stdout",
     "output_type": "stream",
     "text": [
      "Colonnes les plus importantes pour la première composante principale :\n",
      "Maximum reverse leaking current (UA)                  0.459065\n",
      "0minal Zener Voltage (V)                              0.382962\n",
      "Maximum regulator current (MA)                        0.340788\n",
      "Test Current (MA)                                     0.338797\n",
      "Maximum Zener impedance (OHM)                         0.315019\n",
      "Maximum power dissipation (MW)                        0.297848\n",
      "Maximum Regulator Current Ambient Temperature (°C)    0.297848\n",
      "Maximum power dissipation (MW                         0.297848\n",
      "Zener volatge tolerance                               0.215177\n",
      "Fabricant                                             0.000000\n",
      "Packaging                                             0.000000\n",
      "Pin Count                                             0.000000\n",
      "Name: Principal Component 2, dtype: float64\n"
     ]
    }
   ],
   "source": [
    "# Identifier les colonnes les plus importantes pour la première composante principale\n",
    "important_columns_pc2 = loadings['Principal Component 2'].abs().sort_values(ascending=False)\n",
    "print(\"Colonnes les plus importantes pour la première composante principale :\")\n",
    "print(important_columns_pc2)"
   ]
  },
  {
   "cell_type": "code",
   "execution_count": 259,
   "metadata": {},
   "outputs": [
    {
     "name": "stdout",
     "output_type": "stream",
     "text": [
      "Variance expliquée par chaque composante : [0.48432355 0.30440773]\n",
      "Variance totale expliquée : 0.7887312823881802\n"
     ]
    }
   ],
   "source": [
    "print(\"Variance expliquée par chaque composante :\", pca.explained_variance_ratio_)\n",
    "print(\"Variance totale expliquée :\", sum(pca.explained_variance_ratio_))\n"
   ]
  },
  {
   "cell_type": "markdown",
   "metadata": {},
   "source": [
    "### Les colonnes Fabricant Packaging et Pin Count ne sont pas importantes car elles ont une variance de 0 dans PC1 et PC2"
   ]
  },
  {
   "cell_type": "code",
   "execution_count": 260,
   "metadata": {},
   "outputs": [
    {
     "name": "stdout",
     "output_type": "stream",
     "text": [
      "Colonnes restantes après réduction : ['Maximum power dissipation (MW)', 'Maximum Regulator Current Ambient Temperature (°C)', 'Test Current (MA)', 'Maximum regulator current (MA)', 'Maximum reverse leaking current (UA)', '0minal Zener Voltage (V)', 'Maximum Zener impedance (OHM)']\n"
     ]
    }
   ],
   "source": [
    "# Colonnes à conserver\n",
    "important_columns = [\n",
    "    \"Maximum power dissipation (MW)\",\n",
    "    \"Maximum Regulator Current Ambient Temperature (°C)\",\n",
    "    \"Test Current (MA)\",\n",
    "    \"Maximum regulator current (MA)\",\n",
    "    \"Maximum reverse leaking current (UA)\",\n",
    "    \"0minal Zener Voltage (V)\",\n",
    "    \"Maximum Zener impedance (OHM)\"\n",
    "]\n",
    "\n",
    "# Filtrer le DataFrame pour ne garder que les colonnes importantes\n",
    "df_final = df_selected_ss_na[important_columns]\n",
    "\n",
    "# Vérification des colonnes restantes\n",
    "print(\"Colonnes restantes après réduction :\", df_final.columns.tolist())"
   ]
  },
  {
   "cell_type": "markdown",
   "metadata": {},
   "source": [
    "# Random Forest Simon\n"
   ]
  },
  {
   "cell_type": "code",
   "execution_count": 263,
   "metadata": {},
   "outputs": [
    {
     "ename": "KeyError",
     "evalue": "\"['Maximum Regulator Current Ambient Temperature (°C)'] not in index\"",
     "output_type": "error",
     "traceback": [
      "\u001b[1;31m---------------------------------------------------------------------------\u001b[0m",
      "\u001b[1;31mKeyError\u001b[0m                                  Traceback (most recent call last)",
      "Cell \u001b[1;32mIn[263], line 6\u001b[0m\n\u001b[0;32m      3\u001b[0m \u001b[38;5;28;01mfrom\u001b[39;00m \u001b[38;5;21;01msklearn\u001b[39;00m\u001b[38;5;21;01m.\u001b[39;00m\u001b[38;5;21;01mmetrics\u001b[39;00m \u001b[38;5;28;01mimport\u001b[39;00m accuracy_score, classification_report\n\u001b[0;32m      5\u001b[0m \u001b[38;5;66;03m# Supposons que 'SVHC' soit la variable cible\u001b[39;00m\n\u001b[1;32m----> 6\u001b[0m X \u001b[38;5;241m=\u001b[39m df_train[important_columns]\n\u001b[0;32m      7\u001b[0m y \u001b[38;5;241m=\u001b[39m df_train[\u001b[38;5;124m'\u001b[39m\u001b[38;5;124mSVHC\u001b[39m\u001b[38;5;124m'\u001b[39m]\n\u001b[0;32m      9\u001b[0m \u001b[38;5;66;03m# Diviser les données en ensembles d'entraînement et de test\u001b[39;00m\n",
      "File \u001b[1;32mc:\\Users\\scoup\\miniconda3\\Lib\\site-packages\\pandas\\core\\frame.py:4108\u001b[0m, in \u001b[0;36mDataFrame.__getitem__\u001b[1;34m(self, key)\u001b[0m\n\u001b[0;32m   4106\u001b[0m     \u001b[38;5;28;01mif\u001b[39;00m is_iterator(key):\n\u001b[0;32m   4107\u001b[0m         key \u001b[38;5;241m=\u001b[39m \u001b[38;5;28mlist\u001b[39m(key)\n\u001b[1;32m-> 4108\u001b[0m     indexer \u001b[38;5;241m=\u001b[39m \u001b[38;5;28mself\u001b[39m\u001b[38;5;241m.\u001b[39mcolumns\u001b[38;5;241m.\u001b[39m_get_indexer_strict(key, \u001b[38;5;124m\"\u001b[39m\u001b[38;5;124mcolumns\u001b[39m\u001b[38;5;124m\"\u001b[39m)[\u001b[38;5;241m1\u001b[39m]\n\u001b[0;32m   4110\u001b[0m \u001b[38;5;66;03m# take() does not accept boolean indexers\u001b[39;00m\n\u001b[0;32m   4111\u001b[0m \u001b[38;5;28;01mif\u001b[39;00m \u001b[38;5;28mgetattr\u001b[39m(indexer, \u001b[38;5;124m\"\u001b[39m\u001b[38;5;124mdtype\u001b[39m\u001b[38;5;124m\"\u001b[39m, \u001b[38;5;28;01mNone\u001b[39;00m) \u001b[38;5;241m==\u001b[39m \u001b[38;5;28mbool\u001b[39m:\n",
      "File \u001b[1;32mc:\\Users\\scoup\\miniconda3\\Lib\\site-packages\\pandas\\core\\indexes\\base.py:6200\u001b[0m, in \u001b[0;36mIndex._get_indexer_strict\u001b[1;34m(self, key, axis_name)\u001b[0m\n\u001b[0;32m   6197\u001b[0m \u001b[38;5;28;01melse\u001b[39;00m:\n\u001b[0;32m   6198\u001b[0m     keyarr, indexer, new_indexer \u001b[38;5;241m=\u001b[39m \u001b[38;5;28mself\u001b[39m\u001b[38;5;241m.\u001b[39m_reindex_non_unique(keyarr)\n\u001b[1;32m-> 6200\u001b[0m \u001b[38;5;28mself\u001b[39m\u001b[38;5;241m.\u001b[39m_raise_if_missing(keyarr, indexer, axis_name)\n\u001b[0;32m   6202\u001b[0m keyarr \u001b[38;5;241m=\u001b[39m \u001b[38;5;28mself\u001b[39m\u001b[38;5;241m.\u001b[39mtake(indexer)\n\u001b[0;32m   6203\u001b[0m \u001b[38;5;28;01mif\u001b[39;00m \u001b[38;5;28misinstance\u001b[39m(key, Index):\n\u001b[0;32m   6204\u001b[0m     \u001b[38;5;66;03m# GH 42790 - Preserve name from an Index\u001b[39;00m\n",
      "File \u001b[1;32mc:\\Users\\scoup\\miniconda3\\Lib\\site-packages\\pandas\\core\\indexes\\base.py:6252\u001b[0m, in \u001b[0;36mIndex._raise_if_missing\u001b[1;34m(self, key, indexer, axis_name)\u001b[0m\n\u001b[0;32m   6249\u001b[0m     \u001b[38;5;28;01mraise\u001b[39;00m \u001b[38;5;167;01mKeyError\u001b[39;00m(\u001b[38;5;124mf\u001b[39m\u001b[38;5;124m\"\u001b[39m\u001b[38;5;124mNone of [\u001b[39m\u001b[38;5;132;01m{\u001b[39;00mkey\u001b[38;5;132;01m}\u001b[39;00m\u001b[38;5;124m] are in the [\u001b[39m\u001b[38;5;132;01m{\u001b[39;00maxis_name\u001b[38;5;132;01m}\u001b[39;00m\u001b[38;5;124m]\u001b[39m\u001b[38;5;124m\"\u001b[39m)\n\u001b[0;32m   6251\u001b[0m not_found \u001b[38;5;241m=\u001b[39m \u001b[38;5;28mlist\u001b[39m(ensure_index(key)[missing_mask\u001b[38;5;241m.\u001b[39mnonzero()[\u001b[38;5;241m0\u001b[39m]]\u001b[38;5;241m.\u001b[39munique())\n\u001b[1;32m-> 6252\u001b[0m \u001b[38;5;28;01mraise\u001b[39;00m \u001b[38;5;167;01mKeyError\u001b[39;00m(\u001b[38;5;124mf\u001b[39m\u001b[38;5;124m\"\u001b[39m\u001b[38;5;132;01m{\u001b[39;00mnot_found\u001b[38;5;132;01m}\u001b[39;00m\u001b[38;5;124m not in index\u001b[39m\u001b[38;5;124m\"\u001b[39m)\n",
      "\u001b[1;31mKeyError\u001b[0m: \"['Maximum Regulator Current Ambient Temperature (°C)'] not in index\""
     ]
    }
   ],
   "source": [
    "from sklearn.ensemble import RandomForestClassifier\n",
    "from sklearn.model_selection import train_test_split\n",
    "from sklearn.metrics import accuracy_score, classification_report\n",
    "\n",
    "# Supposons que 'SVHC' soit la variable cible\n",
    "X = df_train[important_columns]\n",
    "y = df_train['SVHC']\n",
    "\n",
    "# Diviser les données en ensembles d'entraînement et de test\n",
    "X_train, X_test, y_train, y_test = train_test_split(X, y, test_size=0.2, random_state=42)\n",
    "\n",
    "# Créer le modèle de Random Forest\n",
    "rf_model = RandomForestClassifier(n_estimators=100, random_state=42)\n",
    "\n",
    "# Entraîner le modèle\n",
    "rf_model.fit(X_train, y_train)\n",
    "\n",
    "# Prédire sur l'ensemble de test\n",
    "y_pred = rf_model.predict(X_test)\n",
    "\n",
    "# Évaluer le modèle\n",
    "accuracy = accuracy_score(y_test, y_pred)\n",
    "report = classification_report(y_test, y_pred)\n",
    "\n",
    "print(f\"Accuracy: {accuracy}\")\n",
    "print(f\"Classification Report:\\n{report}\")"
   ]
  },
  {
   "cell_type": "markdown",
   "metadata": {},
   "source": [
    "# Random Forest"
   ]
  },
  {
   "cell_type": "code",
   "execution_count": 208,
   "metadata": {},
   "outputs": [
    {
     "ename": "ValueError",
     "evalue": "could not convert string to float: 'MMBZ5225B-G3-18 Zener Diode S1 3V 5% 30Ohm 300mW 3-Pin SOT-23 T/R'",
     "output_type": "error",
     "traceback": [
      "\u001b[1;31m---------------------------------------------------------------------------\u001b[0m",
      "\u001b[1;31mValueError\u001b[0m                                Traceback (most recent call last)",
      "\u001b[1;32m~\\AppData\\Local\\Temp\\ipykernel_19512\\2444325050.py\u001b[0m in \u001b[0;36m?\u001b[1;34m()\u001b[0m\n\u001b[0;32m     12\u001b[0m \u001b[1;31m# Créer le modèle de Random Forest\u001b[0m\u001b[1;33m\u001b[0m\u001b[1;33m\u001b[0m\u001b[0m\n\u001b[0;32m     13\u001b[0m \u001b[0mrf_model\u001b[0m \u001b[1;33m=\u001b[0m \u001b[0mRandomForestClassifier\u001b[0m\u001b[1;33m(\u001b[0m\u001b[0mn_estimators\u001b[0m\u001b[1;33m=\u001b[0m\u001b[1;36m100\u001b[0m\u001b[1;33m,\u001b[0m \u001b[0mrandom_state\u001b[0m\u001b[1;33m=\u001b[0m\u001b[1;36m42\u001b[0m\u001b[1;33m)\u001b[0m\u001b[1;33m\u001b[0m\u001b[1;33m\u001b[0m\u001b[0m\n\u001b[0;32m     14\u001b[0m \u001b[1;33m\u001b[0m\u001b[0m\n\u001b[0;32m     15\u001b[0m \u001b[1;31m# Entraîner le modèle\u001b[0m\u001b[1;33m\u001b[0m\u001b[1;33m\u001b[0m\u001b[0m\n\u001b[1;32m---> 16\u001b[1;33m \u001b[0mrf_model\u001b[0m\u001b[1;33m.\u001b[0m\u001b[0mfit\u001b[0m\u001b[1;33m(\u001b[0m\u001b[0mX_train\u001b[0m\u001b[1;33m,\u001b[0m \u001b[0my_train\u001b[0m\u001b[1;33m)\u001b[0m\u001b[1;33m\u001b[0m\u001b[1;33m\u001b[0m\u001b[0m\n\u001b[0m\u001b[0;32m     17\u001b[0m \u001b[1;33m\u001b[0m\u001b[0m\n\u001b[0;32m     18\u001b[0m \u001b[1;31m# Prédire sur l'ensemble de test\u001b[0m\u001b[1;33m\u001b[0m\u001b[1;33m\u001b[0m\u001b[0m\n\u001b[0;32m     19\u001b[0m \u001b[0my_pred\u001b[0m \u001b[1;33m=\u001b[0m \u001b[0mrf_model\u001b[0m\u001b[1;33m.\u001b[0m\u001b[0mpredict\u001b[0m\u001b[1;33m(\u001b[0m\u001b[0mX_test\u001b[0m\u001b[1;33m)\u001b[0m\u001b[1;33m\u001b[0m\u001b[1;33m\u001b[0m\u001b[0m\n",
      "\u001b[1;32mc:\\Users\\scoup\\miniconda3\\Lib\\site-packages\\sklearn\\base.py\u001b[0m in \u001b[0;36m?\u001b[1;34m(estimator, *args, **kwargs)\u001b[0m\n\u001b[0;32m   1469\u001b[0m                 skip_parameter_validation=(\n\u001b[0;32m   1470\u001b[0m                     \u001b[0mprefer_skip_nested_validation\u001b[0m \u001b[1;32mor\u001b[0m \u001b[0mglobal_skip_validation\u001b[0m\u001b[1;33m\u001b[0m\u001b[1;33m\u001b[0m\u001b[0m\n\u001b[0;32m   1471\u001b[0m                 \u001b[1;33m)\u001b[0m\u001b[1;33m\u001b[0m\u001b[1;33m\u001b[0m\u001b[0m\n\u001b[0;32m   1472\u001b[0m             \u001b[1;33m)\u001b[0m\u001b[1;33m:\u001b[0m\u001b[1;33m\u001b[0m\u001b[1;33m\u001b[0m\u001b[0m\n\u001b[1;32m-> 1473\u001b[1;33m                 \u001b[1;32mreturn\u001b[0m \u001b[0mfit_method\u001b[0m\u001b[1;33m(\u001b[0m\u001b[0mestimator\u001b[0m\u001b[1;33m,\u001b[0m \u001b[1;33m*\u001b[0m\u001b[0margs\u001b[0m\u001b[1;33m,\u001b[0m \u001b[1;33m**\u001b[0m\u001b[0mkwargs\u001b[0m\u001b[1;33m)\u001b[0m\u001b[1;33m\u001b[0m\u001b[1;33m\u001b[0m\u001b[0m\n\u001b[0m",
      "\u001b[1;32mc:\\Users\\scoup\\miniconda3\\Lib\\site-packages\\sklearn\\ensemble\\_forest.py\u001b[0m in \u001b[0;36m?\u001b[1;34m(self, X, y, sample_weight)\u001b[0m\n\u001b[0;32m    359\u001b[0m         \u001b[1;31m# Validate or convert input data\u001b[0m\u001b[1;33m\u001b[0m\u001b[1;33m\u001b[0m\u001b[0m\n\u001b[0;32m    360\u001b[0m         \u001b[1;32mif\u001b[0m \u001b[0missparse\u001b[0m\u001b[1;33m(\u001b[0m\u001b[0my\u001b[0m\u001b[1;33m)\u001b[0m\u001b[1;33m:\u001b[0m\u001b[1;33m\u001b[0m\u001b[1;33m\u001b[0m\u001b[0m\n\u001b[0;32m    361\u001b[0m             \u001b[1;32mraise\u001b[0m \u001b[0mValueError\u001b[0m\u001b[1;33m(\u001b[0m\u001b[1;34m\"sparse multilabel-indicator for y is not supported.\"\u001b[0m\u001b[1;33m)\u001b[0m\u001b[1;33m\u001b[0m\u001b[1;33m\u001b[0m\u001b[0m\n\u001b[0;32m    362\u001b[0m \u001b[1;33m\u001b[0m\u001b[0m\n\u001b[1;32m--> 363\u001b[1;33m         X, y = self._validate_data(\n\u001b[0m\u001b[0;32m    364\u001b[0m             \u001b[0mX\u001b[0m\u001b[1;33m,\u001b[0m\u001b[1;33m\u001b[0m\u001b[1;33m\u001b[0m\u001b[0m\n\u001b[0;32m    365\u001b[0m             \u001b[0my\u001b[0m\u001b[1;33m,\u001b[0m\u001b[1;33m\u001b[0m\u001b[1;33m\u001b[0m\u001b[0m\n\u001b[0;32m    366\u001b[0m             \u001b[0mmulti_output\u001b[0m\u001b[1;33m=\u001b[0m\u001b[1;32mTrue\u001b[0m\u001b[1;33m,\u001b[0m\u001b[1;33m\u001b[0m\u001b[1;33m\u001b[0m\u001b[0m\n",
      "\u001b[1;32mc:\\Users\\scoup\\miniconda3\\Lib\\site-packages\\sklearn\\base.py\u001b[0m in \u001b[0;36m?\u001b[1;34m(self, X, y, reset, validate_separately, cast_to_ndarray, **check_params)\u001b[0m\n\u001b[0;32m    646\u001b[0m                 \u001b[1;32mif\u001b[0m \u001b[1;34m\"estimator\"\u001b[0m \u001b[1;32mnot\u001b[0m \u001b[1;32min\u001b[0m \u001b[0mcheck_y_params\u001b[0m\u001b[1;33m:\u001b[0m\u001b[1;33m\u001b[0m\u001b[1;33m\u001b[0m\u001b[0m\n\u001b[0;32m    647\u001b[0m                     \u001b[0mcheck_y_params\u001b[0m \u001b[1;33m=\u001b[0m \u001b[1;33m{\u001b[0m\u001b[1;33m**\u001b[0m\u001b[0mdefault_check_params\u001b[0m\u001b[1;33m,\u001b[0m \u001b[1;33m**\u001b[0m\u001b[0mcheck_y_params\u001b[0m\u001b[1;33m}\u001b[0m\u001b[1;33m\u001b[0m\u001b[1;33m\u001b[0m\u001b[0m\n\u001b[0;32m    648\u001b[0m                 \u001b[0my\u001b[0m \u001b[1;33m=\u001b[0m \u001b[0mcheck_array\u001b[0m\u001b[1;33m(\u001b[0m\u001b[0my\u001b[0m\u001b[1;33m,\u001b[0m \u001b[0minput_name\u001b[0m\u001b[1;33m=\u001b[0m\u001b[1;34m\"y\"\u001b[0m\u001b[1;33m,\u001b[0m \u001b[1;33m**\u001b[0m\u001b[0mcheck_y_params\u001b[0m\u001b[1;33m)\u001b[0m\u001b[1;33m\u001b[0m\u001b[1;33m\u001b[0m\u001b[0m\n\u001b[0;32m    649\u001b[0m             \u001b[1;32melse\u001b[0m\u001b[1;33m:\u001b[0m\u001b[1;33m\u001b[0m\u001b[1;33m\u001b[0m\u001b[0m\n\u001b[1;32m--> 650\u001b[1;33m                 \u001b[0mX\u001b[0m\u001b[1;33m,\u001b[0m \u001b[0my\u001b[0m \u001b[1;33m=\u001b[0m \u001b[0mcheck_X_y\u001b[0m\u001b[1;33m(\u001b[0m\u001b[0mX\u001b[0m\u001b[1;33m,\u001b[0m \u001b[0my\u001b[0m\u001b[1;33m,\u001b[0m \u001b[1;33m**\u001b[0m\u001b[0mcheck_params\u001b[0m\u001b[1;33m)\u001b[0m\u001b[1;33m\u001b[0m\u001b[1;33m\u001b[0m\u001b[0m\n\u001b[0m\u001b[0;32m    651\u001b[0m             \u001b[0mout\u001b[0m \u001b[1;33m=\u001b[0m \u001b[0mX\u001b[0m\u001b[1;33m,\u001b[0m \u001b[0my\u001b[0m\u001b[1;33m\u001b[0m\u001b[1;33m\u001b[0m\u001b[0m\n\u001b[0;32m    652\u001b[0m \u001b[1;33m\u001b[0m\u001b[0m\n\u001b[0;32m    653\u001b[0m         \u001b[1;32mif\u001b[0m \u001b[1;32mnot\u001b[0m \u001b[0mno_val_X\u001b[0m \u001b[1;32mand\u001b[0m \u001b[0mcheck_params\u001b[0m\u001b[1;33m.\u001b[0m\u001b[0mget\u001b[0m\u001b[1;33m(\u001b[0m\u001b[1;34m\"ensure_2d\"\u001b[0m\u001b[1;33m,\u001b[0m \u001b[1;32mTrue\u001b[0m\u001b[1;33m)\u001b[0m\u001b[1;33m:\u001b[0m\u001b[1;33m\u001b[0m\u001b[1;33m\u001b[0m\u001b[0m\n",
      "\u001b[1;32mc:\\Users\\scoup\\miniconda3\\Lib\\site-packages\\sklearn\\utils\\validation.py\u001b[0m in \u001b[0;36m?\u001b[1;34m(X, y, accept_sparse, accept_large_sparse, dtype, order, copy, force_writeable, force_all_finite, ensure_2d, allow_nd, multi_output, ensure_min_samples, ensure_min_features, y_numeric, estimator)\u001b[0m\n\u001b[0;32m   1297\u001b[0m         raise ValueError(\n\u001b[0;32m   1298\u001b[0m             \u001b[1;33mf\"\u001b[0m\u001b[1;33m{\u001b[0m\u001b[0mestimator_name\u001b[0m\u001b[1;33m}\u001b[0m\u001b[1;33m requires y to be passed, but the target y is None\u001b[0m\u001b[1;33m\"\u001b[0m\u001b[1;33m\u001b[0m\u001b[1;33m\u001b[0m\u001b[0m\n\u001b[0;32m   1299\u001b[0m         \u001b[1;33m)\u001b[0m\u001b[1;33m\u001b[0m\u001b[1;33m\u001b[0m\u001b[0m\n\u001b[0;32m   1300\u001b[0m \u001b[1;33m\u001b[0m\u001b[0m\n\u001b[1;32m-> 1301\u001b[1;33m     X = check_array(\n\u001b[0m\u001b[0;32m   1302\u001b[0m         \u001b[0mX\u001b[0m\u001b[1;33m,\u001b[0m\u001b[1;33m\u001b[0m\u001b[1;33m\u001b[0m\u001b[0m\n\u001b[0;32m   1303\u001b[0m         \u001b[0maccept_sparse\u001b[0m\u001b[1;33m=\u001b[0m\u001b[0maccept_sparse\u001b[0m\u001b[1;33m,\u001b[0m\u001b[1;33m\u001b[0m\u001b[1;33m\u001b[0m\u001b[0m\n\u001b[0;32m   1304\u001b[0m         \u001b[0maccept_large_sparse\u001b[0m\u001b[1;33m=\u001b[0m\u001b[0maccept_large_sparse\u001b[0m\u001b[1;33m,\u001b[0m\u001b[1;33m\u001b[0m\u001b[1;33m\u001b[0m\u001b[0m\n",
      "\u001b[1;32mc:\\Users\\scoup\\miniconda3\\Lib\\site-packages\\sklearn\\utils\\validation.py\u001b[0m in \u001b[0;36m?\u001b[1;34m(array, accept_sparse, accept_large_sparse, dtype, order, copy, force_writeable, force_all_finite, ensure_2d, allow_nd, ensure_min_samples, ensure_min_features, estimator, input_name)\u001b[0m\n\u001b[0;32m   1009\u001b[0m                         \u001b[1;33m)\u001b[0m\u001b[1;33m\u001b[0m\u001b[1;33m\u001b[0m\u001b[0m\n\u001b[0;32m   1010\u001b[0m                     \u001b[0marray\u001b[0m \u001b[1;33m=\u001b[0m \u001b[0mxp\u001b[0m\u001b[1;33m.\u001b[0m\u001b[0mastype\u001b[0m\u001b[1;33m(\u001b[0m\u001b[0marray\u001b[0m\u001b[1;33m,\u001b[0m \u001b[0mdtype\u001b[0m\u001b[1;33m,\u001b[0m \u001b[0mcopy\u001b[0m\u001b[1;33m=\u001b[0m\u001b[1;32mFalse\u001b[0m\u001b[1;33m)\u001b[0m\u001b[1;33m\u001b[0m\u001b[1;33m\u001b[0m\u001b[0m\n\u001b[0;32m   1011\u001b[0m                 \u001b[1;32melse\u001b[0m\u001b[1;33m:\u001b[0m\u001b[1;33m\u001b[0m\u001b[1;33m\u001b[0m\u001b[0m\n\u001b[0;32m   1012\u001b[0m                     \u001b[0marray\u001b[0m \u001b[1;33m=\u001b[0m \u001b[0m_asarray_with_order\u001b[0m\u001b[1;33m(\u001b[0m\u001b[0marray\u001b[0m\u001b[1;33m,\u001b[0m \u001b[0morder\u001b[0m\u001b[1;33m=\u001b[0m\u001b[0morder\u001b[0m\u001b[1;33m,\u001b[0m \u001b[0mdtype\u001b[0m\u001b[1;33m=\u001b[0m\u001b[0mdtype\u001b[0m\u001b[1;33m,\u001b[0m \u001b[0mxp\u001b[0m\u001b[1;33m=\u001b[0m\u001b[0mxp\u001b[0m\u001b[1;33m)\u001b[0m\u001b[1;33m\u001b[0m\u001b[1;33m\u001b[0m\u001b[0m\n\u001b[1;32m-> 1013\u001b[1;33m             \u001b[1;32mexcept\u001b[0m \u001b[0mComplexWarning\u001b[0m \u001b[1;32mas\u001b[0m \u001b[0mcomplex_warning\u001b[0m\u001b[1;33m:\u001b[0m\u001b[1;33m\u001b[0m\u001b[1;33m\u001b[0m\u001b[0m\n\u001b[0m\u001b[0;32m   1014\u001b[0m                 raise ValueError(\n\u001b[0;32m   1015\u001b[0m                     \u001b[1;34m\"Complex data not supported\\n{}\\n\"\u001b[0m\u001b[1;33m.\u001b[0m\u001b[0mformat\u001b[0m\u001b[1;33m(\u001b[0m\u001b[0marray\u001b[0m\u001b[1;33m)\u001b[0m\u001b[1;33m\u001b[0m\u001b[1;33m\u001b[0m\u001b[0m\n\u001b[0;32m   1016\u001b[0m                 \u001b[1;33m)\u001b[0m \u001b[1;32mfrom\u001b[0m \u001b[0mcomplex_warning\u001b[0m\u001b[1;33m\u001b[0m\u001b[1;33m\u001b[0m\u001b[0m\n",
      "\u001b[1;32mc:\\Users\\scoup\\miniconda3\\Lib\\site-packages\\sklearn\\utils\\_array_api.py\u001b[0m in \u001b[0;36m?\u001b[1;34m(array, dtype, order, copy, xp, device)\u001b[0m\n\u001b[0;32m    747\u001b[0m         \u001b[1;31m# Use NumPy API to support order\u001b[0m\u001b[1;33m\u001b[0m\u001b[1;33m\u001b[0m\u001b[0m\n\u001b[0;32m    748\u001b[0m         \u001b[1;32mif\u001b[0m \u001b[0mcopy\u001b[0m \u001b[1;32mis\u001b[0m \u001b[1;32mTrue\u001b[0m\u001b[1;33m:\u001b[0m\u001b[1;33m\u001b[0m\u001b[1;33m\u001b[0m\u001b[0m\n\u001b[0;32m    749\u001b[0m             \u001b[0marray\u001b[0m \u001b[1;33m=\u001b[0m \u001b[0mnumpy\u001b[0m\u001b[1;33m.\u001b[0m\u001b[0marray\u001b[0m\u001b[1;33m(\u001b[0m\u001b[0marray\u001b[0m\u001b[1;33m,\u001b[0m \u001b[0morder\u001b[0m\u001b[1;33m=\u001b[0m\u001b[0morder\u001b[0m\u001b[1;33m,\u001b[0m \u001b[0mdtype\u001b[0m\u001b[1;33m=\u001b[0m\u001b[0mdtype\u001b[0m\u001b[1;33m)\u001b[0m\u001b[1;33m\u001b[0m\u001b[1;33m\u001b[0m\u001b[0m\n\u001b[0;32m    750\u001b[0m         \u001b[1;32melse\u001b[0m\u001b[1;33m:\u001b[0m\u001b[1;33m\u001b[0m\u001b[1;33m\u001b[0m\u001b[0m\n\u001b[1;32m--> 751\u001b[1;33m             \u001b[0marray\u001b[0m \u001b[1;33m=\u001b[0m \u001b[0mnumpy\u001b[0m\u001b[1;33m.\u001b[0m\u001b[0masarray\u001b[0m\u001b[1;33m(\u001b[0m\u001b[0marray\u001b[0m\u001b[1;33m,\u001b[0m \u001b[0morder\u001b[0m\u001b[1;33m=\u001b[0m\u001b[0morder\u001b[0m\u001b[1;33m,\u001b[0m \u001b[0mdtype\u001b[0m\u001b[1;33m=\u001b[0m\u001b[0mdtype\u001b[0m\u001b[1;33m)\u001b[0m\u001b[1;33m\u001b[0m\u001b[1;33m\u001b[0m\u001b[0m\n\u001b[0m\u001b[0;32m    752\u001b[0m \u001b[1;33m\u001b[0m\u001b[0m\n\u001b[0;32m    753\u001b[0m         \u001b[1;31m# At this point array is a NumPy ndarray. We convert it to an array\u001b[0m\u001b[1;33m\u001b[0m\u001b[1;33m\u001b[0m\u001b[0m\n\u001b[0;32m    754\u001b[0m         \u001b[1;31m# container that is consistent with the input's namespace.\u001b[0m\u001b[1;33m\u001b[0m\u001b[1;33m\u001b[0m\u001b[0m\n",
      "\u001b[1;32mc:\\Users\\scoup\\miniconda3\\Lib\\site-packages\\pandas\\core\\generic.py\u001b[0m in \u001b[0;36m?\u001b[1;34m(self, dtype, copy)\u001b[0m\n\u001b[0;32m   2149\u001b[0m     def __array__(\n\u001b[0;32m   2150\u001b[0m         \u001b[0mself\u001b[0m\u001b[1;33m,\u001b[0m \u001b[0mdtype\u001b[0m\u001b[1;33m:\u001b[0m \u001b[0mnpt\u001b[0m\u001b[1;33m.\u001b[0m\u001b[0mDTypeLike\u001b[0m \u001b[1;33m|\u001b[0m \u001b[1;32mNone\u001b[0m \u001b[1;33m=\u001b[0m \u001b[1;32mNone\u001b[0m\u001b[1;33m,\u001b[0m \u001b[0mcopy\u001b[0m\u001b[1;33m:\u001b[0m \u001b[0mbool_t\u001b[0m \u001b[1;33m|\u001b[0m \u001b[1;32mNone\u001b[0m \u001b[1;33m=\u001b[0m \u001b[1;32mNone\u001b[0m\u001b[1;33m\u001b[0m\u001b[1;33m\u001b[0m\u001b[0m\n\u001b[0;32m   2151\u001b[0m     \u001b[1;33m)\u001b[0m \u001b[1;33m->\u001b[0m \u001b[0mnp\u001b[0m\u001b[1;33m.\u001b[0m\u001b[0mndarray\u001b[0m\u001b[1;33m:\u001b[0m\u001b[1;33m\u001b[0m\u001b[1;33m\u001b[0m\u001b[0m\n\u001b[0;32m   2152\u001b[0m         \u001b[0mvalues\u001b[0m \u001b[1;33m=\u001b[0m \u001b[0mself\u001b[0m\u001b[1;33m.\u001b[0m\u001b[0m_values\u001b[0m\u001b[1;33m\u001b[0m\u001b[1;33m\u001b[0m\u001b[0m\n\u001b[1;32m-> 2153\u001b[1;33m         \u001b[0marr\u001b[0m \u001b[1;33m=\u001b[0m \u001b[0mnp\u001b[0m\u001b[1;33m.\u001b[0m\u001b[0masarray\u001b[0m\u001b[1;33m(\u001b[0m\u001b[0mvalues\u001b[0m\u001b[1;33m,\u001b[0m \u001b[0mdtype\u001b[0m\u001b[1;33m=\u001b[0m\u001b[0mdtype\u001b[0m\u001b[1;33m)\u001b[0m\u001b[1;33m\u001b[0m\u001b[1;33m\u001b[0m\u001b[0m\n\u001b[0m\u001b[0;32m   2154\u001b[0m         if (\n\u001b[0;32m   2155\u001b[0m             \u001b[0mastype_is_view\u001b[0m\u001b[1;33m(\u001b[0m\u001b[0mvalues\u001b[0m\u001b[1;33m.\u001b[0m\u001b[0mdtype\u001b[0m\u001b[1;33m,\u001b[0m \u001b[0marr\u001b[0m\u001b[1;33m.\u001b[0m\u001b[0mdtype\u001b[0m\u001b[1;33m)\u001b[0m\u001b[1;33m\u001b[0m\u001b[1;33m\u001b[0m\u001b[0m\n\u001b[0;32m   2156\u001b[0m             \u001b[1;32mand\u001b[0m \u001b[0musing_copy_on_write\u001b[0m\u001b[1;33m(\u001b[0m\u001b[1;33m)\u001b[0m\u001b[1;33m\u001b[0m\u001b[1;33m\u001b[0m\u001b[0m\n",
      "\u001b[1;31mValueError\u001b[0m: could not convert string to float: 'MMBZ5225B-G3-18 Zener Diode S1 3V 5% 30Ohm 300mW 3-Pin SOT-23 T/R'"
     ]
    }
   ],
   "source": [
    "from sklearn.ensemble import RandomForestClassifier\n",
    "from sklearn.model_selection import train_test_split\n",
    "from sklearn.metrics import accuracy_score, classification_report\n",
    "\n",
    "# Supposons que 'SVHC' soit la variable cible\n",
    "X = df_train.drop(columns=['SVHC'])\n",
    "y = df_train['SVHC']\n",
    "\n",
    "# Diviser les données en ensembles d'entraînement et de test\n",
    "X_train, X_test, y_train, y_test = train_test_split(X, y, test_size=0.2, random_state=42)\n",
    "\n",
    "# Créer le modèle de Random Forest\n",
    "rf_model = RandomForestClassifier(n_estimators=100, random_state=42)\n",
    "\n",
    "# Entraîner le modèle\n",
    "rf_model.fit(X_train, y_train)\n",
    "\n",
    "# Prédire sur l'ensemble de test\n",
    "y_pred = rf_model.predict(X_test)\n",
    "\n",
    "# Évaluer le modèle\n",
    "accuracy = accuracy_score(y_test, y_pred)\n",
    "report = classification_report(y_test, y_pred)\n",
    "\n",
    "print(f\"Accuracy: {accuracy}\")\n",
    "print(f\"Classification Report:\\n{report}\")"
   ]
  }
 ],
 "metadata": {
  "kernelspec": {
   "display_name": "base",
   "language": "python",
   "name": "python3"
  },
  "language_info": {
   "codemirror_mode": {
    "name": "ipython",
    "version": 3
   },
   "file_extension": ".py",
   "mimetype": "text/x-python",
   "name": "python",
   "nbconvert_exporter": "python",
   "pygments_lexer": "ipython3",
   "version": "3.12.4"
  }
 },
 "nbformat": 4,
 "nbformat_minor": 2
}
